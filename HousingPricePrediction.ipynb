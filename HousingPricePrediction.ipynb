{
 "nbformat": 4,
 "nbformat_minor": 0,
 "metadata": {
  "colab": {
   "provenance": []
  },
  "kernelspec": {
   "name": "python3",
   "display_name": "Python 3"
  },
  "language_info": {
   "name": "python"
  }
 },
 "cells": [
  {
   "cell_type": "markdown",
   "source": [
    "\n",
    "\n",
    "## Kaggle Housing Prices Prediction using Regression\n",
    "\n",
    "#  David Muruli\n",
    "---"
   ],
   "metadata": {
    "id": "L2c4xqJxabAx"
   }
  },
  {
   "cell_type": "code",
   "execution_count": 268,
   "metadata": {
    "colab": {
     "base_uri": "https://localhost:8080/"
    },
    "id": "FM0Kjsn6zAKx",
    "outputId": "1b523b4d-2081-4228-81de-3a14eb42b34c"
   },
   "outputs": [
    {
     "output_type": "stream",
     "name": "stdout",
     "text": [
      "Looking in indexes: https://pypi.org/simple, https://us-python.pkg.dev/colab-wheels/public/simple/\n",
      "Requirement already satisfied: pyspark in /usr/local/lib/python3.10/dist-packages (3.4.0)\n",
      "Requirement already satisfied: py4j==0.10.9.7 in /usr/local/lib/python3.10/dist-packages (from pyspark) (0.10.9.7)\n"
     ]
    }
   ],
   "source": [
    "# Install pyspark in google colab\n",
    "!pip install pyspark"
   ]
  },
  {
   "cell_type": "code",
   "source": [
    "from google.colab import drive\n",
    "drive.mount('/content/drive')"
   ],
   "metadata": {
    "colab": {
     "base_uri": "https://localhost:8080/"
    },
    "id": "1xFYOCq1z8Vi",
    "outputId": "a9b426ae-591f-42d1-8567-db3b592c10f7"
   },
   "execution_count": 269,
   "outputs": [
    {
     "output_type": "stream",
     "name": "stdout",
     "text": [
      "Drive already mounted at /content/drive; to attempt to forcibly remount, call drive.mount(\"/content/drive\", force_remount=True).\n"
     ]
    }
   ]
  },
  {
   "cell_type": "code",
   "source": [
    "import pyspark\n",
    "import pandas as pd\n",
    "import numpy as np\n",
    "import matplotlib.pyplot as plt \n",
    "\n",
    "from pyspark.ml.regression import LinearRegression\n",
    "\n",
    "from pyspark.ml.regression import GBTRegressor\n",
    "from pyspark.ml.regression import DecisionTreeRegressor\n",
    "from pyspark.ml.regression import RandomForestRegressor\n",
    "from pyspark.ml.regression import DecisionTreeRegressor\n",
    "from pyspark.ml.regression import IsotonicRegression\n",
    "\n",
    "from pyspark.ml.evaluation import RegressionEvaluator\n",
    "\n",
    "from pyspark.ml.feature import StandardScaler\n",
    "\n",
    "from pyspark.ml.feature import StringIndexer, OneHotEncoder, VectorAssembler, PCA\n",
    "from pyspark.ml import Pipeline\n",
    "from pyspark.sql.functions import col\n",
    "%matplotlib inline"
   ],
   "metadata": {
    "id": "wdrp7F0ZnE97"
   },
   "execution_count": 270,
   "outputs": []
  },
  {
   "cell_type": "code",
   "source": [
    "from pyspark.sql import SparkSession\n",
    "\n",
    "spark = SparkSession \\\n",
    "    .builder \\\n",
    "    .appName(\"Python Spark Final Project\") \\\n",
    "    .config(\"spark.some.config.option\", \"some-value\") \\\n",
    "    .getOrCreate()"
   ],
   "metadata": {
    "id": "RAq7cQy95eoZ"
   },
   "execution_count": 271,
   "outputs": []
  },
  {
   "cell_type": "code",
   "source": [
    "df = spark.read.format('csv').\\\n",
    "                       options(header='true', \\\n",
    "                       inferschema='true').\\\n",
    "            load(\"drive/MyDrive/spark_class_data/final/train.csv\",header=True);"
   ],
   "metadata": {
    "id": "IgZGprth5vZy"
   },
   "execution_count": 272,
   "outputs": []
  },
  {
   "cell_type": "code",
   "source": [
    "df.show(5,True)\n",
    "df.printSchema()"
   ],
   "metadata": {
    "colab": {
     "base_uri": "https://localhost:8080/"
    },
    "id": "rlVIfexH7iO1",
    "outputId": "cdebba40-664f-47bb-a381-ff3db36a5d47"
   },
   "execution_count": 273,
   "outputs": [
    {
     "output_type": "stream",
     "name": "stdout",
     "text": [
      "+---+----------+--------+-----------+-------+------+-----+--------+-----------+---------+---------+---------+------------+----------+----------+--------+----------+-----------+-----------+---------+------------+---------+--------+-----------+-----------+----------+----------+---------+---------+----------+--------+--------+------------+------------+----------+------------+----------+---------+-----------+-------+---------+----------+----------+--------+--------+------------+---------+------------+------------+--------+--------+------------+------------+-----------+------------+----------+----------+-----------+----------+-----------+------------+----------+----------+----------+----------+----------+----------+-----------+-------------+---------+-----------+--------+------+-----+-----------+-------+------+------+--------+-------------+---------+\n",
      "| Id|MSSubClass|MSZoning|LotFrontage|LotArea|Street|Alley|LotShape|LandContour|Utilities|LotConfig|LandSlope|Neighborhood|Condition1|Condition2|BldgType|HouseStyle|OverallQual|OverallCond|YearBuilt|YearRemodAdd|RoofStyle|RoofMatl|Exterior1st|Exterior2nd|MasVnrType|MasVnrArea|ExterQual|ExterCond|Foundation|BsmtQual|BsmtCond|BsmtExposure|BsmtFinType1|BsmtFinSF1|BsmtFinType2|BsmtFinSF2|BsmtUnfSF|TotalBsmtSF|Heating|HeatingQC|CentralAir|Electrical|1stFlrSF|2ndFlrSF|LowQualFinSF|GrLivArea|BsmtFullBath|BsmtHalfBath|FullBath|HalfBath|BedroomAbvGr|KitchenAbvGr|KitchenQual|TotRmsAbvGrd|Functional|Fireplaces|FireplaceQu|GarageType|GarageYrBlt|GarageFinish|GarageCars|GarageArea|GarageQual|GarageCond|PavedDrive|WoodDeckSF|OpenPorchSF|EnclosedPorch|3SsnPorch|ScreenPorch|PoolArea|PoolQC|Fence|MiscFeature|MiscVal|MoSold|YrSold|SaleType|SaleCondition|SalePrice|\n",
      "+---+----------+--------+-----------+-------+------+-----+--------+-----------+---------+---------+---------+------------+----------+----------+--------+----------+-----------+-----------+---------+------------+---------+--------+-----------+-----------+----------+----------+---------+---------+----------+--------+--------+------------+------------+----------+------------+----------+---------+-----------+-------+---------+----------+----------+--------+--------+------------+---------+------------+------------+--------+--------+------------+------------+-----------+------------+----------+----------+-----------+----------+-----------+------------+----------+----------+----------+----------+----------+----------+-----------+-------------+---------+-----------+--------+------+-----+-----------+-------+------+------+--------+-------------+---------+\n",
      "|  1|        60|      RL|         65|   8450|  Pave|   NA|     Reg|        Lvl|   AllPub|   Inside|      Gtl|     CollgCr|      Norm|      Norm|    1Fam|    2Story|          7|          5|     2003|        2003|    Gable| CompShg|    VinylSd|    VinylSd|   BrkFace|       196|       Gd|       TA|     PConc|      Gd|      TA|          No|         GLQ|       706|         Unf|         0|      150|        856|   GasA|       Ex|         Y|     SBrkr|     856|     854|           0|     1710|           1|           0|       2|       1|           3|           1|         Gd|           8|       Typ|         0|         NA|    Attchd|       2003|         RFn|         2|       548|        TA|        TA|         Y|         0|         61|            0|        0|          0|       0|    NA|   NA|         NA|      0|     2|  2008|      WD|       Normal|   208500|\n",
      "|  2|        20|      RL|         80|   9600|  Pave|   NA|     Reg|        Lvl|   AllPub|      FR2|      Gtl|     Veenker|     Feedr|      Norm|    1Fam|    1Story|          6|          8|     1976|        1976|    Gable| CompShg|    MetalSd|    MetalSd|      None|         0|       TA|       TA|    CBlock|      Gd|      TA|          Gd|         ALQ|       978|         Unf|         0|      284|       1262|   GasA|       Ex|         Y|     SBrkr|    1262|       0|           0|     1262|           0|           1|       2|       0|           3|           1|         TA|           6|       Typ|         1|         TA|    Attchd|       1976|         RFn|         2|       460|        TA|        TA|         Y|       298|          0|            0|        0|          0|       0|    NA|   NA|         NA|      0|     5|  2007|      WD|       Normal|   181500|\n",
      "|  3|        60|      RL|         68|  11250|  Pave|   NA|     IR1|        Lvl|   AllPub|   Inside|      Gtl|     CollgCr|      Norm|      Norm|    1Fam|    2Story|          7|          5|     2001|        2002|    Gable| CompShg|    VinylSd|    VinylSd|   BrkFace|       162|       Gd|       TA|     PConc|      Gd|      TA|          Mn|         GLQ|       486|         Unf|         0|      434|        920|   GasA|       Ex|         Y|     SBrkr|     920|     866|           0|     1786|           1|           0|       2|       1|           3|           1|         Gd|           6|       Typ|         1|         TA|    Attchd|       2001|         RFn|         2|       608|        TA|        TA|         Y|         0|         42|            0|        0|          0|       0|    NA|   NA|         NA|      0|     9|  2008|      WD|       Normal|   223500|\n",
      "|  4|        70|      RL|         60|   9550|  Pave|   NA|     IR1|        Lvl|   AllPub|   Corner|      Gtl|     Crawfor|      Norm|      Norm|    1Fam|    2Story|          7|          5|     1915|        1970|    Gable| CompShg|    Wd Sdng|    Wd Shng|      None|         0|       TA|       TA|    BrkTil|      TA|      Gd|          No|         ALQ|       216|         Unf|         0|      540|        756|   GasA|       Gd|         Y|     SBrkr|     961|     756|           0|     1717|           1|           0|       1|       0|           3|           1|         Gd|           7|       Typ|         1|         Gd|    Detchd|       1998|         Unf|         3|       642|        TA|        TA|         Y|         0|         35|          272|        0|          0|       0|    NA|   NA|         NA|      0|     2|  2006|      WD|      Abnorml|   140000|\n",
      "|  5|        60|      RL|         84|  14260|  Pave|   NA|     IR1|        Lvl|   AllPub|      FR2|      Gtl|     NoRidge|      Norm|      Norm|    1Fam|    2Story|          8|          5|     2000|        2000|    Gable| CompShg|    VinylSd|    VinylSd|   BrkFace|       350|       Gd|       TA|     PConc|      Gd|      TA|          Av|         GLQ|       655|         Unf|         0|      490|       1145|   GasA|       Ex|         Y|     SBrkr|    1145|    1053|           0|     2198|           1|           0|       2|       1|           4|           1|         Gd|           9|       Typ|         1|         TA|    Attchd|       2000|         RFn|         3|       836|        TA|        TA|         Y|       192|         84|            0|        0|          0|       0|    NA|   NA|         NA|      0|    12|  2008|      WD|       Normal|   250000|\n",
      "+---+----------+--------+-----------+-------+------+-----+--------+-----------+---------+---------+---------+------------+----------+----------+--------+----------+-----------+-----------+---------+------------+---------+--------+-----------+-----------+----------+----------+---------+---------+----------+--------+--------+------------+------------+----------+------------+----------+---------+-----------+-------+---------+----------+----------+--------+--------+------------+---------+------------+------------+--------+--------+------------+------------+-----------+------------+----------+----------+-----------+----------+-----------+------------+----------+----------+----------+----------+----------+----------+-----------+-------------+---------+-----------+--------+------+-----+-----------+-------+------+------+--------+-------------+---------+\n",
      "only showing top 5 rows\n",
      "\n",
      "root\n",
      " |-- Id: integer (nullable = true)\n",
      " |-- MSSubClass: integer (nullable = true)\n",
      " |-- MSZoning: string (nullable = true)\n",
      " |-- LotFrontage: string (nullable = true)\n",
      " |-- LotArea: integer (nullable = true)\n",
      " |-- Street: string (nullable = true)\n",
      " |-- Alley: string (nullable = true)\n",
      " |-- LotShape: string (nullable = true)\n",
      " |-- LandContour: string (nullable = true)\n",
      " |-- Utilities: string (nullable = true)\n",
      " |-- LotConfig: string (nullable = true)\n",
      " |-- LandSlope: string (nullable = true)\n",
      " |-- Neighborhood: string (nullable = true)\n",
      " |-- Condition1: string (nullable = true)\n",
      " |-- Condition2: string (nullable = true)\n",
      " |-- BldgType: string (nullable = true)\n",
      " |-- HouseStyle: string (nullable = true)\n",
      " |-- OverallQual: integer (nullable = true)\n",
      " |-- OverallCond: integer (nullable = true)\n",
      " |-- YearBuilt: integer (nullable = true)\n",
      " |-- YearRemodAdd: integer (nullable = true)\n",
      " |-- RoofStyle: string (nullable = true)\n",
      " |-- RoofMatl: string (nullable = true)\n",
      " |-- Exterior1st: string (nullable = true)\n",
      " |-- Exterior2nd: string (nullable = true)\n",
      " |-- MasVnrType: string (nullable = true)\n",
      " |-- MasVnrArea: string (nullable = true)\n",
      " |-- ExterQual: string (nullable = true)\n",
      " |-- ExterCond: string (nullable = true)\n",
      " |-- Foundation: string (nullable = true)\n",
      " |-- BsmtQual: string (nullable = true)\n",
      " |-- BsmtCond: string (nullable = true)\n",
      " |-- BsmtExposure: string (nullable = true)\n",
      " |-- BsmtFinType1: string (nullable = true)\n",
      " |-- BsmtFinSF1: integer (nullable = true)\n",
      " |-- BsmtFinType2: string (nullable = true)\n",
      " |-- BsmtFinSF2: integer (nullable = true)\n",
      " |-- BsmtUnfSF: integer (nullable = true)\n",
      " |-- TotalBsmtSF: integer (nullable = true)\n",
      " |-- Heating: string (nullable = true)\n",
      " |-- HeatingQC: string (nullable = true)\n",
      " |-- CentralAir: string (nullable = true)\n",
      " |-- Electrical: string (nullable = true)\n",
      " |-- 1stFlrSF: integer (nullable = true)\n",
      " |-- 2ndFlrSF: integer (nullable = true)\n",
      " |-- LowQualFinSF: integer (nullable = true)\n",
      " |-- GrLivArea: integer (nullable = true)\n",
      " |-- BsmtFullBath: integer (nullable = true)\n",
      " |-- BsmtHalfBath: integer (nullable = true)\n",
      " |-- FullBath: integer (nullable = true)\n",
      " |-- HalfBath: integer (nullable = true)\n",
      " |-- BedroomAbvGr: integer (nullable = true)\n",
      " |-- KitchenAbvGr: integer (nullable = true)\n",
      " |-- KitchenQual: string (nullable = true)\n",
      " |-- TotRmsAbvGrd: integer (nullable = true)\n",
      " |-- Functional: string (nullable = true)\n",
      " |-- Fireplaces: integer (nullable = true)\n",
      " |-- FireplaceQu: string (nullable = true)\n",
      " |-- GarageType: string (nullable = true)\n",
      " |-- GarageYrBlt: string (nullable = true)\n",
      " |-- GarageFinish: string (nullable = true)\n",
      " |-- GarageCars: integer (nullable = true)\n",
      " |-- GarageArea: integer (nullable = true)\n",
      " |-- GarageQual: string (nullable = true)\n",
      " |-- GarageCond: string (nullable = true)\n",
      " |-- PavedDrive: string (nullable = true)\n",
      " |-- WoodDeckSF: integer (nullable = true)\n",
      " |-- OpenPorchSF: integer (nullable = true)\n",
      " |-- EnclosedPorch: integer (nullable = true)\n",
      " |-- 3SsnPorch: integer (nullable = true)\n",
      " |-- ScreenPorch: integer (nullable = true)\n",
      " |-- PoolArea: integer (nullable = true)\n",
      " |-- PoolQC: string (nullable = true)\n",
      " |-- Fence: string (nullable = true)\n",
      " |-- MiscFeature: string (nullable = true)\n",
      " |-- MiscVal: integer (nullable = true)\n",
      " |-- MoSold: integer (nullable = true)\n",
      " |-- YrSold: integer (nullable = true)\n",
      " |-- SaleType: string (nullable = true)\n",
      " |-- SaleCondition: string (nullable = true)\n",
      " |-- SalePrice: integer (nullable = true)\n"
     ]
    }
   ]
  },
  {
   "cell_type": "code",
   "source": [
    "df.describe().show()"
   ],
   "metadata": {
    "colab": {
     "base_uri": "https://localhost:8080/"
    },
    "id": "8CxxfB6s8fI9",
    "outputId": "a33bc8ba-96c3-4abe-b36f-01e129b44d58"
   },
   "execution_count": 274,
   "outputs": [
    {
     "output_type": "stream",
     "name": "stdout",
     "text": [
      "+-------+-----------------+------------------+--------+-----------------+------------------+------+-----+--------+-----------+---------+---------+---------+------------+----------+----------+--------+----------+------------------+------------------+------------------+------------------+---------+--------+-----------+-----------+----------+------------------+---------+---------+----------+--------+--------+------------+------------+-----------------+------------+-----------------+-----------------+------------------+-------+---------+----------+----------+-----------------+------------------+-----------------+-----------------+-------------------+--------------------+------------------+-------------------+------------------+-------------------+-----------+------------------+----------+------------------+-----------+----------+------------------+------------+------------------+-----------------+----------+----------+----------+------------------+-----------------+------------------+------------------+------------------+-----------------+------+-----+-----------+------------------+------------------+------------------+--------+-------------+------------------+\n",
      "|summary|               Id|        MSSubClass|MSZoning|      LotFrontage|           LotArea|Street|Alley|LotShape|LandContour|Utilities|LotConfig|LandSlope|Neighborhood|Condition1|Condition2|BldgType|HouseStyle|       OverallQual|       OverallCond|         YearBuilt|      YearRemodAdd|RoofStyle|RoofMatl|Exterior1st|Exterior2nd|MasVnrType|        MasVnrArea|ExterQual|ExterCond|Foundation|BsmtQual|BsmtCond|BsmtExposure|BsmtFinType1|       BsmtFinSF1|BsmtFinType2|       BsmtFinSF2|        BsmtUnfSF|       TotalBsmtSF|Heating|HeatingQC|CentralAir|Electrical|         1stFlrSF|          2ndFlrSF|     LowQualFinSF|        GrLivArea|       BsmtFullBath|        BsmtHalfBath|          FullBath|           HalfBath|      BedroomAbvGr|       KitchenAbvGr|KitchenQual|      TotRmsAbvGrd|Functional|        Fireplaces|FireplaceQu|GarageType|       GarageYrBlt|GarageFinish|        GarageCars|       GarageArea|GarageQual|GarageCond|PavedDrive|        WoodDeckSF|      OpenPorchSF|     EnclosedPorch|         3SsnPorch|       ScreenPorch|         PoolArea|PoolQC|Fence|MiscFeature|           MiscVal|            MoSold|            YrSold|SaleType|SaleCondition|         SalePrice|\n",
      "+-------+-----------------+------------------+--------+-----------------+------------------+------+-----+--------+-----------+---------+---------+---------+------------+----------+----------+--------+----------+------------------+------------------+------------------+------------------+---------+--------+-----------+-----------+----------+------------------+---------+---------+----------+--------+--------+------------+------------+-----------------+------------+-----------------+-----------------+------------------+-------+---------+----------+----------+-----------------+------------------+-----------------+-----------------+-------------------+--------------------+------------------+-------------------+------------------+-------------------+-----------+------------------+----------+------------------+-----------+----------+------------------+------------+------------------+-----------------+----------+----------+----------+------------------+-----------------+------------------+------------------+------------------+-----------------+------+-----+-----------+------------------+------------------+------------------+--------+-------------+------------------+\n",
      "|  count|             1460|              1460|    1460|             1460|              1460|  1460| 1460|    1460|       1460|     1460|     1460|     1460|        1460|      1460|      1460|    1460|      1460|              1460|              1460|              1460|              1460|     1460|    1460|       1460|       1460|      1460|              1460|     1460|     1460|      1460|    1460|    1460|        1460|        1460|             1460|        1460|             1460|             1460|              1460|   1460|     1460|      1460|      1460|             1460|              1460|             1460|             1460|               1460|                1460|              1460|               1460|              1460|               1460|       1460|              1460|      1460|              1460|       1460|      1460|              1460|        1460|              1460|             1460|      1460|      1460|      1460|              1460|             1460|              1460|              1460|              1460|             1460|  1460| 1460|       1460|              1460|              1460|              1460|    1460|         1460|              1460|\n",
      "|   mean|            730.5|56.897260273972606|    null|70.04995836802665|10516.828082191782|  null| null|    null|       null|     null|     null|     null|        null|      null|      null|    null|      null|6.0993150684931505| 5.575342465753424| 1971.267808219178|1984.8657534246574|     null|    null|       null|       null|      null|103.68526170798899|     null|     null|      null|    null|    null|        null|        null|443.6397260273973|        null|46.54931506849315|567.2404109589041|1057.4294520547944|   null|     null|      null|      null|1162.626712328767|346.99246575342465|5.844520547945206|1515.463698630137|0.42534246575342466|0.057534246575342465|1.5650684931506849|0.38287671232876713|2.8664383561643834| 1.0465753424657533|       null| 6.517808219178082|      null| 0.613013698630137|       null|      null|1978.5061638868744|        null|1.7671232876712328|472.9801369863014|      null|      null|      null|  94.2445205479452|46.66027397260274|21.954109589041096|3.4095890410958902|15.060958904109588|2.758904109589041|  null| null|       null|43.489041095890414| 6.321917808219178|2007.8157534246575|    null|         null|180921.19589041095|\n",
      "| stddev|421.6100093688479| 42.30057099381045|    null|24.28475177448321|  9981.26493237915|  null| null|    null|       null|     null|     null|     null|        null|      null|      null|    null|      null|1.3829965467415926|1.1127993367127318|30.202904042525294| 20.64540680770938|     null|    null|       null|       null|      null|181.06620658721647|     null|     null|      null|    null|    null|        null|        null|456.0980908409278|        null|161.3192728065416|441.8669552924343| 438.7053244594709|   null|     null|      null|      null|386.5877380410744|  436.528435886257|48.62308143352024|525.4803834232024| 0.5189106060898061| 0.23875264627921197|0.5509158012954318| 0.5028853810928912|0.8157780441442279|0.22033819838403076|       null|1.6253932905840511|      null|0.6446663863122297|       null|      null| 24.68972476859027|        null|0.7473150101111095|213.8048414533803|      null|      null|      null|125.33879435172422| 66.2560276766497| 61.11914860172857|29.317330556781872| 55.75741528187416|40.17730694453021|  null| null|       null| 496.1230244579441|2.7036262083595113|1.3280951205521145|    null|         null| 79442.50288288663|\n",
      "|    min|                1|                20| C (all)|              100|              1300|  Grvl| Grvl|     IR1|        Bnk|   AllPub|   Corner|      Gtl|     Blmngtn|    Artery|    Artery|    1Fam|    1.5Fin|                 1|                 1|              1872|              1950|     Flat| ClyTile|    AsbShng|    AsbShng|    BrkCmn|                 0|       Ex|       Ex|    BrkTil|      Ex|      Fa|          Av|         ALQ|                0|         ALQ|                0|                0|                 0|  Floor|       Ex|         N|     FuseA|              334|                 0|                0|              334|                  0|                   0|                 0|                  0|                 0|                  0|         Ex|                 2|      Maj1|                 0|         Ex|    2Types|              1900|         Fin|                 0|                0|        Ex|        Ex|         N|                 0|                0|                 0|                 0|                 0|                0|    Ex|GdPrv|       Gar2|                 0|                 1|              2006|     COD|      Abnorml|             34900|\n",
      "|    max|             1460|               190|      RM|               NA|            215245|  Pave| Pave|     Reg|        Lvl|   NoSeWa|   Inside|      Sev|     Veenker|      RRNn|      RRNn|  TwnhsE|      SLvl|                10|                 9|              2010|              2010|     Shed| WdShngl|    WdShing|    Wd Shng|     Stone|                NA|       TA|       TA|      Wood|      TA|      TA|          No|         Unf|             5644|         Unf|             1474|             2336|              6110|   Wall|       TA|         Y|     SBrkr|             4692|              2065|              572|             5642|                  3|                   2|                 3|                  2|                 8|                  3|         TA|                14|       Typ|                 3|         TA|        NA|                NA|         Unf|                 4|             1418|        TA|        TA|         Y|               857|              547|               552|               508|               480|              738|    NA|   NA|       TenC|             15500|                12|              2010|      WD|      Partial|            755000|\n",
      "+-------+-----------------+------------------+--------+-----------------+------------------+------+-----+--------+-----------+---------+---------+---------+------------+----------+----------+--------+----------+------------------+------------------+------------------+------------------+---------+--------+-----------+-----------+----------+------------------+---------+---------+----------+--------+--------+------------+------------+-----------------+------------+-----------------+-----------------+------------------+-------+---------+----------+----------+-----------------+------------------+-----------------+-----------------+-------------------+--------------------+------------------+-------------------+------------------+-------------------+-----------+------------------+----------+------------------+-----------+----------+------------------+------------+------------------+-----------------+----------+----------+----------+------------------+-----------------+------------------+------------------+------------------+-----------------+------+-----+-----------+------------------+------------------+------------------+--------+-------------+------------------+\n"
     ]
    }
   ]
  },
  {
   "cell_type": "code",
   "source": [
    "print(\"No. of columns(features) in dataset\", len(df.columns))"
   ],
   "metadata": {
    "colab": {
     "base_uri": "https://localhost:8080/"
    },
    "id": "DcCF_Aeg2neG",
    "outputId": "4525c95b-dfc4-4eca-e192-b827bfe985c3"
   },
   "execution_count": 275,
   "outputs": [
    {
     "output_type": "stream",
     "name": "stdout",
     "text": [
      "No. of columns(features) in dataset 81\n"
     ]
    }
   ]
  },
  {
   "cell_type": "code",
   "source": [
    "print(\"No. Neighbourhoods: \", df.groupBy('Neighborhood').count().count())\n",
    "df.groupBy('Neighborhood').avg('SalePrice').show(25)"
   ],
   "metadata": {
    "colab": {
     "base_uri": "https://localhost:8080/"
    },
    "id": "i7Z4a6EceOW-",
    "outputId": "af88bcd5-b234-46dd-f84b-0ce2a24967df"
   },
   "execution_count": 276,
   "outputs": [
    {
     "output_type": "stream",
     "name": "stdout",
     "text": [
      "No. Neighbourhoods:  25\n",
      "+------------+------------------+\n",
      "|Neighborhood|    avg(SalePrice)|\n",
      "+------------+------------------+\n",
      "|     Veenker|238772.72727272726|\n",
      "|     BrkSide|124834.05172413793|\n",
      "|     NPkVill|142694.44444444444|\n",
      "|     NridgHt| 316270.6233766234|\n",
      "|     NoRidge|335295.31707317074|\n",
      "|      NWAmes| 189050.0684931507|\n",
      "|     OldTown|128225.30088495575|\n",
      "|     Gilbert|192854.50632911394|\n",
      "|     Somerst|225379.83720930232|\n",
      "|     Crawfor|210624.72549019608|\n",
      "|       NAmes|         145847.08|\n",
      "|      IDOTRR|100123.78378378379|\n",
      "|     Edwards|          128219.7|\n",
      "|      Sawyer|136793.13513513515|\n",
      "|     StoneBr|          310499.0|\n",
      "|     CollgCr|197965.77333333335|\n",
      "|       SWISU|         142591.36|\n",
      "|     MeadowV|  98576.4705882353|\n",
      "|      Timber|242247.44736842104|\n",
      "|     Blmngtn|194870.88235294117|\n",
      "|     Mitchel| 156270.1224489796|\n",
      "|     SawyerW| 186555.7966101695|\n",
      "|     Blueste|          137500.0|\n",
      "|      BrDale|         104493.75|\n",
      "|     ClearCr|212565.42857142858|\n",
      "+------------+------------------+\n"
     ]
    }
   ]
  },
  {
   "cell_type": "code",
   "source": [
    "neigbhourhoodPrice = df.groupBy('Neighborhood').max('SalePrice')\n",
    "df.groupBy('Neighborhood').max('SalePrice').show(25)"
   ],
   "metadata": {
    "colab": {
     "base_uri": "https://localhost:8080/"
    },
    "id": "YmNZEr_7hF_H",
    "outputId": "789bcbb1-82a9-495b-d553-c78ce4b9b320"
   },
   "execution_count": 277,
   "outputs": [
    {
     "output_type": "stream",
     "name": "stdout",
     "text": [
      "+------------+--------------+\n",
      "|Neighborhood|max(SalePrice)|\n",
      "+------------+--------------+\n",
      "|     Veenker|        385000|\n",
      "|     BrkSide|        223500|\n",
      "|     NPkVill|        155000|\n",
      "|     NridgHt|        611657|\n",
      "|     NoRidge|        755000|\n",
      "|      NWAmes|        299800|\n",
      "|     OldTown|        475000|\n",
      "|     Gilbert|        377500|\n",
      "|     Somerst|        423000|\n",
      "|     Crawfor|        392500|\n",
      "|       NAmes|        345000|\n",
      "|      IDOTRR|        169500|\n",
      "|     Edwards|        320000|\n",
      "|      Sawyer|        190000|\n",
      "|     StoneBr|        556581|\n",
      "|     CollgCr|        424870|\n",
      "|       SWISU|        200000|\n",
      "|     MeadowV|        151400|\n",
      "|      Timber|        378500|\n",
      "|     Blmngtn|        264561|\n",
      "|     Mitchel|        271000|\n",
      "|     SawyerW|        320000|\n",
      "|     Blueste|        151000|\n",
      "|      BrDale|        125000|\n",
      "|     ClearCr|        328000|\n",
      "+------------+--------------+\n"
     ]
    }
   ]
  },
  {
   "cell_type": "markdown",
   "source": [
    "We need to find which features are corelated with the target feature, the sale price"
   ],
   "metadata": {
    "id": "_0CaZfVH2xI0"
   }
  },
  {
   "cell_type": "code",
   "source": [
    "catCols = [x for (x, dataType) in df.dtypes if dataType == \"string\"]\n"
   ],
   "metadata": {
    "id": "wOUY2SKLQPXx"
   },
   "execution_count": 278,
   "outputs": []
  },
  {
   "cell_type": "code",
   "source": [
    "len(catCols)"
   ],
   "metadata": {
    "colab": {
     "base_uri": "https://localhost:8080/"
    },
    "id": "0Gnpg8PKrhHA",
    "outputId": "085f4ecd-dad2-40d3-a974-9e0f25fbb819"
   },
   "execution_count": 279,
   "outputs": [
    {
     "output_type": "execute_result",
     "data": {
      "text/plain": [
       "46"
      ]
     },
     "metadata": {},
     "execution_count": 279
    }
   ]
  },
  {
   "cell_type": "code",
   "source": [
    "print(catCols)"
   ],
   "metadata": {
    "colab": {
     "base_uri": "https://localhost:8080/"
    },
    "id": "6T8cDeYvRFCC",
    "outputId": "0f9918b9-d054-48af-c3db-822b049e2306"
   },
   "execution_count": 280,
   "outputs": [
    {
     "output_type": "stream",
     "name": "stdout",
     "text": [
      "['MSZoning', 'LotFrontage', 'Street', 'Alley', 'LotShape', 'LandContour', 'Utilities', 'LotConfig', 'LandSlope', 'Neighborhood', 'Condition1', 'Condition2', 'BldgType', 'HouseStyle', 'RoofStyle', 'RoofMatl', 'Exterior1st', 'Exterior2nd', 'MasVnrType', 'MasVnrArea', 'ExterQual', 'ExterCond', 'Foundation', 'BsmtQual', 'BsmtCond', 'BsmtExposure', 'BsmtFinType1', 'BsmtFinType2', 'Heating', 'HeatingQC', 'CentralAir', 'Electrical', 'KitchenQual', 'Functional', 'FireplaceQu', 'GarageType', 'GarageYrBlt', 'GarageFinish', 'GarageQual', 'GarageCond', 'PavedDrive', 'PoolQC', 'Fence', 'MiscFeature', 'SaleType', 'SaleCondition']\n"
     ]
    }
   ]
  },
  {
   "cell_type": "code",
   "source": [
    "numCols = [x for (x, dataType) in df.dtypes if dataType == \"int\"]\n"
   ],
   "metadata": {
    "id": "NnN1v7hoRTDL"
   },
   "execution_count": 281,
   "outputs": []
  },
  {
   "cell_type": "code",
   "source": [
    "len(numCols)"
   ],
   "metadata": {
    "colab": {
     "base_uri": "https://localhost:8080/"
    },
    "id": "1EJrJALLsc9f",
    "outputId": "457db6c5-3f7b-45e6-f3d3-1f7e17bd7cf5"
   },
   "execution_count": 282,
   "outputs": [
    {
     "output_type": "execute_result",
     "data": {
      "text/plain": [
       "35"
      ]
     },
     "metadata": {},
     "execution_count": 282
    }
   ]
  },
  {
   "cell_type": "code",
   "source": [
    "print(numCols)"
   ],
   "metadata": {
    "colab": {
     "base_uri": "https://localhost:8080/"
    },
    "id": "BxuXiDVzscyY",
    "outputId": "0f06f158-9ce3-41bd-ce88-f5ac50828337"
   },
   "execution_count": 283,
   "outputs": [
    {
     "output_type": "stream",
     "name": "stdout",
     "text": [
      "['Id', 'MSSubClass', 'LotArea', 'OverallQual', 'OverallCond', 'YearBuilt', 'YearRemodAdd', 'BsmtFinSF1', 'BsmtFinSF2', 'BsmtUnfSF', 'TotalBsmtSF', '1stFlrSF', '2ndFlrSF', 'LowQualFinSF', 'GrLivArea', 'BsmtFullBath', 'BsmtHalfBath', 'FullBath', 'HalfBath', 'BedroomAbvGr', 'KitchenAbvGr', 'TotRmsAbvGrd', 'Fireplaces', 'GarageCars', 'GarageArea', 'WoodDeckSF', 'OpenPorchSF', 'EnclosedPorch', '3SsnPorch', 'ScreenPorch', 'PoolArea', 'MiscVal', 'MoSold', 'YrSold', 'SalePrice']\n"
     ]
    }
   ]
  },
  {
   "cell_type": "markdown",
   "source": [
    "Find which of the numeric features is corrlated with the target feature"
   ],
   "metadata": {
    "id": "xoSQzz4C7Tpl"
   }
  },
  {
   "cell_type": "code",
   "source": [
    "selectNumCols ={}\n",
    "for colName in numCols:\n",
    "  colCorrelation = df.stat.corr('SalePrice',colName)\n",
    "  if(colCorrelation > 0.5 or colCorrelation < -0.5):\n",
    "    selectNumCols[colName] = colCorrelation\n",
    "    print( \"Correlation to Sale Price for \", colName, colCorrelation)"
   ],
   "metadata": {
    "colab": {
     "base_uri": "https://localhost:8080/"
    },
    "id": "XePEM8Dv8kbE",
    "outputId": "97e92002-caed-4c52-a822-8dad428311ae"
   },
   "execution_count": 284,
   "outputs": [
    {
     "output_type": "stream",
     "name": "stdout",
     "text": [
      "Correlation to Sale Price for  OverallQual 0.7909816005838053\n",
      "Correlation to Sale Price for  YearBuilt 0.522897332879497\n",
      "Correlation to Sale Price for  YearRemodAdd 0.5071009671113869\n",
      "Correlation to Sale Price for  TotalBsmtSF 0.6135805515591942\n",
      "Correlation to Sale Price for  1stFlrSF 0.6058521846919153\n",
      "Correlation to Sale Price for  GrLivArea 0.7086244776126517\n",
      "Correlation to Sale Price for  FullBath 0.5606637627484453\n",
      "Correlation to Sale Price for  TotRmsAbvGrd 0.5337231555820284\n",
      "Correlation to Sale Price for  GarageCars 0.6404091972583519\n",
      "Correlation to Sale Price for  GarageArea 0.6234314389183622\n",
      "Correlation to Sale Price for  SalePrice 1.0\n"
     ]
    }
   ]
  },
  {
   "cell_type": "code",
   "source": [
    "print(\"values: \" ,selectNumCols)\n"
   ],
   "metadata": {
    "colab": {
     "base_uri": "https://localhost:8080/"
    },
    "id": "puXV4lWIRWVv",
    "outputId": "cb51bc92-a854-4be7-d098-e723a407aa65"
   },
   "execution_count": 285,
   "outputs": [
    {
     "output_type": "stream",
     "name": "stdout",
     "text": [
      "values:  {'OverallQual': 0.7909816005838053, 'YearBuilt': 0.522897332879497, 'YearRemodAdd': 0.5071009671113869, 'TotalBsmtSF': 0.6135805515591942, '1stFlrSF': 0.6058521846919153, 'GrLivArea': 0.7086244776126517, 'FullBath': 0.5606637627484453, 'TotRmsAbvGrd': 0.5337231555820284, 'GarageCars': 0.6404091972583519, 'GarageArea': 0.6234314389183622, 'SalePrice': 1.0}\n"
     ]
    }
   ]
  },
  {
   "cell_type": "markdown",
   "source": [
    "List of numeric features to be selected. "
   ],
   "metadata": {
    "id": "qSjEOb9vU8R8"
   }
  },
  {
   "cell_type": "code",
   "source": [
    "print(\"No of original numeric columns: \", len(numCols))\n",
    "print(\"Final No. of numeric columns(features) that are above the threshold: \", len(selectNumCols))\n",
    "dct = {k:[v] for k,v in selectNumCols.items()} \n",
    "df_numCorr = pd.DataFrame(dct)\n",
    "df_numCorr.style"
   ],
   "metadata": {
    "colab": {
     "base_uri": "https://localhost:8080/",
     "height": 116
    },
    "id": "hYfAEVQlD8LC",
    "outputId": "f69ba28e-2673-460b-bd42-45c6b74ef673"
   },
   "execution_count": 286,
   "outputs": [
    {
     "output_type": "stream",
     "name": "stdout",
     "text": [
      "No of original numeric columns:  35\n",
      "Final No. of numeric columns(features) that are above the threshold:  11\n"
     ]
    },
    {
     "output_type": "execute_result",
     "data": {
      "text/plain": [
       "<pandas.io.formats.style.Styler at 0x7f6803a43130>"
      ],
      "text/html": [
       "<style type=\"text/css\">\n",
       "</style>\n",
       "<table id=\"T_6ac7f\" class=\"dataframe\">\n",
       "  <thead>\n",
       "    <tr>\n",
       "      <th class=\"blank level0\" >&nbsp;</th>\n",
       "      <th id=\"T_6ac7f_level0_col0\" class=\"col_heading level0 col0\" >OverallQual</th>\n",
       "      <th id=\"T_6ac7f_level0_col1\" class=\"col_heading level0 col1\" >YearBuilt</th>\n",
       "      <th id=\"T_6ac7f_level0_col2\" class=\"col_heading level0 col2\" >YearRemodAdd</th>\n",
       "      <th id=\"T_6ac7f_level0_col3\" class=\"col_heading level0 col3\" >TotalBsmtSF</th>\n",
       "      <th id=\"T_6ac7f_level0_col4\" class=\"col_heading level0 col4\" >1stFlrSF</th>\n",
       "      <th id=\"T_6ac7f_level0_col5\" class=\"col_heading level0 col5\" >GrLivArea</th>\n",
       "      <th id=\"T_6ac7f_level0_col6\" class=\"col_heading level0 col6\" >FullBath</th>\n",
       "      <th id=\"T_6ac7f_level0_col7\" class=\"col_heading level0 col7\" >TotRmsAbvGrd</th>\n",
       "      <th id=\"T_6ac7f_level0_col8\" class=\"col_heading level0 col8\" >GarageCars</th>\n",
       "      <th id=\"T_6ac7f_level0_col9\" class=\"col_heading level0 col9\" >GarageArea</th>\n",
       "      <th id=\"T_6ac7f_level0_col10\" class=\"col_heading level0 col10\" >SalePrice</th>\n",
       "    </tr>\n",
       "  </thead>\n",
       "  <tbody>\n",
       "    <tr>\n",
       "      <th id=\"T_6ac7f_level0_row0\" class=\"row_heading level0 row0\" >0</th>\n",
       "      <td id=\"T_6ac7f_row0_col0\" class=\"data row0 col0\" >0.790982</td>\n",
       "      <td id=\"T_6ac7f_row0_col1\" class=\"data row0 col1\" >0.522897</td>\n",
       "      <td id=\"T_6ac7f_row0_col2\" class=\"data row0 col2\" >0.507101</td>\n",
       "      <td id=\"T_6ac7f_row0_col3\" class=\"data row0 col3\" >0.613581</td>\n",
       "      <td id=\"T_6ac7f_row0_col4\" class=\"data row0 col4\" >0.605852</td>\n",
       "      <td id=\"T_6ac7f_row0_col5\" class=\"data row0 col5\" >0.708624</td>\n",
       "      <td id=\"T_6ac7f_row0_col6\" class=\"data row0 col6\" >0.560664</td>\n",
       "      <td id=\"T_6ac7f_row0_col7\" class=\"data row0 col7\" >0.533723</td>\n",
       "      <td id=\"T_6ac7f_row0_col8\" class=\"data row0 col8\" >0.640409</td>\n",
       "      <td id=\"T_6ac7f_row0_col9\" class=\"data row0 col9\" >0.623431</td>\n",
       "      <td id=\"T_6ac7f_row0_col10\" class=\"data row0 col10\" >1.000000</td>\n",
       "    </tr>\n",
       "  </tbody>\n",
       "</table>\n"
      ]
     },
     "metadata": {},
     "execution_count": 286
    }
   ]
  },
  {
   "cell_type": "markdown",
   "source": [
    "### **Numeric Columns with covariance greater than 0.5 = 11**"
   ],
   "metadata": {
    "id": "96bjKCZzMkfq"
   }
  },
  {
   "cell_type": "markdown",
   "source": [
    "#### Build Baseline regression housing dataset"
   ],
   "metadata": {
    "id": "KFm-NOAqjJDD"
   }
  },
  {
   "cell_type": "markdown",
   "source": [
    "#Build StringIndex"
   ],
   "metadata": {
    "id": "10Jcswe1jira"
   }
  },
  {
   "cell_type": "code",
   "source": [
    "stringindexer_stages = [ StringIndexer(inputCol=c, outputCol=\"idx_\"+ c) for c in catCols ]"
   ],
   "metadata": {
    "id": "hXWS3E0_jSnX"
   },
   "execution_count": 287,
   "outputs": []
  },
  {
   "cell_type": "code",
   "source": [
    "onehotencoder_stages = [OneHotEncoder(inputCol='idx_' +c, outputCol='onehot_' + c) for c in catCols]"
   ],
   "metadata": {
    "id": "KdY1vpJXkN2A"
   },
   "execution_count": 288,
   "outputs": []
  },
  {
   "cell_type": "code",
   "source": [
    "encoded_category_columns = ['onehot_' + c for c in catCols]\n",
    "\n",
    "baseline_cat_columns_np = np.array(encoded_category_columns)\n",
    "\n",
    "numCols.remove('SalePrice')\n",
    "numCols.remove('Id')\n",
    "\n",
    "baseline_numeric_columns_np = np.array(numCols)\n",
    "base_line_columns = np.concatenate((baseline_cat_columns_np, baseline_numeric_columns_np))\n",
    "\n",
    "\n",
    "vectorassembler_stage = VectorAssembler(inputCols= base_line_columns, outputCol=\"features\")"
   ],
   "metadata": {
    "id": "30yumOsKkloY"
   },
   "execution_count": 289,
   "outputs": []
  },
  {
   "cell_type": "code",
   "source": [
    "all_stages = stringindexer_stages + onehotencoder_stages + [vectorassembler_stage]\n",
    "basePipeline = Pipeline(stages=all_stages)"
   ],
   "metadata": {
    "id": "P-kqzfpvsjRM"
   },
   "execution_count": 290,
   "outputs": []
  },
  {
   "cell_type": "markdown",
   "source": [
    "# Transform base line data"
   ],
   "metadata": {
    "id": "AhoRO9boudlr"
   }
  },
  {
   "cell_type": "code",
   "source": [
    "final_columns =['features', 'SalePrice']\n",
    "base_line_tf = basePipeline.fit(df).transform(df).select(final_columns)\n",
    "base_line_tf.show(5)"
   ],
   "metadata": {
    "colab": {
     "base_uri": "https://localhost:8080/"
    },
    "id": "E63tjkHiucOx",
    "outputId": "212c9103-10ec-47f2-81c7-1313d2332e89"
   },
   "execution_count": 291,
   "outputs": [
    {
     "output_type": "stream",
     "name": "stdout",
     "text": [
      "+--------------------+---------+\n",
      "|            features|SalePrice|\n",
      "+--------------------+---------+\n",
      "|(792,[0,10,114,11...|   208500|\n",
      "|(792,[0,7,114,115...|   181500|\n",
      "|(792,[0,17,114,11...|   223500|\n",
      "|(792,[0,5,114,115...|   140000|\n",
      "|(792,[0,46,114,11...|   250000|\n",
      "+--------------------+---------+\n"
     ]
    }
   ]
  },
  {
   "cell_type": "code",
   "source": [
    "scaler = StandardScaler(inputCol=\"features\",outputCol=\"scaledFeatures\",withStd=True, withMean=True)\n",
    "scalerModel=scaler.fit(base_line_tf)\n",
    "base_line_scaled_tf=scalerModel.transform(base_line_tf)\n",
    "#base_line_tf=scalerModel.transform(base_line_tf)"
   ],
   "metadata": {
    "id": "0MhVZUl4omMd"
   },
   "execution_count": 292,
   "outputs": []
  },
  {
   "cell_type": "markdown",
   "source": [
    "#Split Data into train and test after encoding and transformation"
   ],
   "metadata": {
    "id": "QKb7G7kRxV-7"
   }
  },
  {
   "cell_type": "code",
   "source": [
    "splits = base_line_scaled_tf.randomSplit([0.7, 0.3])\n",
    "train_df = splits[0]\n",
    "test_df = splits[1]\n"
   ],
   "metadata": {
    "id": "HewGpisKwRcl"
   },
   "execution_count": 293,
   "outputs": []
  },
  {
   "cell_type": "markdown",
   "source": [
    "## Run Regressions, Start with Linear Regression, Gradient Booster, Random Forest Regressor"
   ],
   "metadata": {
    "id": "mu6FSXhcwkKF"
   }
  },
  {
   "cell_type": "code",
   "source": [
    "base_line_columns =['Regression Algo', 'R2', 'RSME']\n",
    "base_line_eval_df =pd.DataFrame(columns=base_line_columns)"
   ],
   "metadata": {
    "id": "y8JFJIjdAkSv"
   },
   "execution_count": 294,
   "outputs": []
  },
  {
   "cell_type": "markdown",
   "source": [],
   "metadata": {
    "id": "rho2vleegLT0"
   }
  },
  {
   "cell_type": "markdown",
   "source": [
    "#Linear Regression"
   ],
   "metadata": {
    "id": "m0jy1lFQx6qU"
   }
  },
  {
   "cell_type": "code",
   "source": [
    "lr = LinearRegression(featuresCol = 'scaledFeatures', labelCol='SalePrice', maxIter=10, regParam=0.3, elasticNetParam=0.8)\n",
    "lr_model = lr.fit(train_df)\n",
    "print(\"Coefficients: \" + str(lr_model.coefficients))\n",
    "print(\"Intercept: \" + str(lr_model.intercept))"
   ],
   "metadata": {
    "colab": {
     "base_uri": "https://localhost:8080/"
    },
    "id": "o2x5WDApx-1S",
    "outputId": "6b0d6e21-7f84-4b6e-de37-3d06ee07407f"
   },
   "execution_count": 295,
   "outputs": [
    {
     "output_type": "stream",
     "name": "stdout",
     "text": [
      "Coefficients: [1171.8609608724353,-822.0618088657393,1260.0079594370784,-268.23668345608945,-385.9530566202519,-488.07579954794124,677.5334215600258,614.1175015260485,-796.1781099144316,1420.2295104708285,-56.30289209431225,396.64147552368655,-334.91635968613855,-513.12266926461,1156.6482437980264,-450.0428207463614,36.59545720760404,-486.09540965704184,-443.8455893597602,93.74266501317148,-711.9281510812442,543.3393455660303,19.352547631584795,1425.1764607119442,-257.99707860075625,31.46305564197704,-176.64822972513127,219.43900773141615,-649.433182683776,-1515.5196224263373,-644.2261356801963,-118.7021472072831,50.50804540623128,-713.2482843415552,-31.455331958063674,-2.97372957202975,-289.0643832998443,-153.44804926662866,-328.1989099841921,364.5398147976626,245.33113350499264,-812.2469251906615,-666.8408037233305,-599.187360536589,66.20914057563814,-639.2728072356222,961.6206959813254,438.07701257589696,-128.03584302367247,-304.4596818604172,-1064.7984383096257,2067.6264547377473,-70.75027151031159,-1723.4959558314447,-560.1599012747772,1200.6170557846035,1289.345026600403,-455.19670147051346,-788.7513052019847,-1776.8183936800353,106.08993478577953,802.6915030805362,384.64947133699565,0.0,1368.7219968053005,-320.76255097395494,958.5083599754386,-190.34098222745993,239.60849357084368,-33.10388043592376,-269.1742626570785,76.05101629624679,1733.9020432656632,532.021304179303,2192.5499081788735,-345.54591373718864,1903.5439860435058,546.7325554291639,-558.4412596444555,1.3952264623610904,551.6461895271538,0.0,685.5479976391478,-654.0535441834605,-158.6915112526761,-1297.1592192059265,0.0,-306.9975981254785,-839.1125025644245,-292.4761285309916,-47.80057624669952,489.58577595033364,0.0,-2436.856421745398,125.03226270502867,322.3120589076377,0.0,0.0,-135.22300774517018,0.0,0.0,867.1221681701419,-45.500503605926944,56.21159278656134,-565.7055151528164,1629.4548740049493,0.0,-38.65230012439655,3458.907263995671,579.519440399678,0.0,0.0,0.0,0.0,1247.084061893303,9.88882442404519,-152.06637405798307,105.8007216591926,-106.03596367583461,1589.8326636577299,-504.45146126667635,-798.7296484210176,781.040322486743,354.5231990611857,-677.9971005115051,372.9275773397488,1698.7072473611163,-1648.0366378243368,-701.0550516893853,885.4475149969751,-1226.330395806886,-994.3307089189581,-305.0921056879865,-1336.1449125676972,572.8404312835581,-1573.6534036884793,2992.478600705368,0.0,-1260.044115961374,4.570480455057498,504.5856396167188,2462.713586121395,-1531.621417964188,4052.038726031426,-92.62445038826874,-2494.9535297671,132.45407299391158,-1315.4301907558431,5237.082997469738,-164.71379034521667,-1494.9164746005094,-267.435446548302,2533.017107470959,963.6203895231946,1171.488305376168,-757.0158489819994,-1211.676562104141,162.72522754012886,147.68825525529115,-347.8913803175249,1114.7924582091362,-56.59795439680249,273.6343037495761,40.298076130106864,-958.0396813052996,473.43122588154,0.0,0.0,-35.374012762967304,2147.6185998351684,-1058.3181320033402,-627.2615397190034,-1058.4449305013404,-997.6838635689817,617.8056843917092,773.3705598838168,-77.67203878208811,-849.2379234085075,297.2855794871931,-695.6114186369748,-916.1400510826888,725.4109323543737,206.74660460202074,-90.64719436465256,598.5667115051162,-879.5555708083881,147.1246490057809,4269.494318283142,489.74847537558367,-5050.226976693877,639.4052881941938,-333.9384848604784,200.3845948645834,-850.5903812188327,-18.752246568651607,-1087.161499724597,-370.7476516140705,670.0706070965983,2255.924426293875,-729.5944455481085,495.43092856640754,-48.74772550320127,-977.3174181810239,572.8300776247245,0.0,0.0,150.9199380015777,-105.15283432712475,-490.415701005955,0.0,-618.4060034898657,1222.2033212349215,-482.5345827322698,0.0,-293.11672689017377,278.2715165931617,1688.2038794600144,-252.7091320748246,-626.3936779736472,478.41850480863155,0.0,-1011.9953609423892,452.2847705109084,1145.6555055807532,-560.6471571609119,-437.22064835945054,-724.3798771825499,17.609511139223972,-1265.5984644746247,642.2386320012422,-698.3914266678553,-944.1832671191305,-513.2897775947972,3143.274953457487,-1105.4935517308263,-660.9397366283335,-494.5110947064897,0.0,-212.7938589674803,222.89748102995063,-1067.1676907771932,20.87117960972695,-249.00532077244662,477.617697220687,154.15867855385443,-450.5146588446205,-357.45517956097683,-1037.534946683705,-373.51872593633163,530.2801967904051,707.7607717913148,596.4565816100807,373.1970080217558,-997.2970406388985,-99.31933136282507,-496.0683619515913,-1047.2026767863679,24.181639878998684,99.35444841736512,-663.9461896634123,462.8109228037772,541.7416224482309,-375.74781894133616,862.7893744153176,0.0,160.03948102895663,-233.7802346241873,220.2494460470167,-564.6896255402739,0.0,-655.7379277029867,1150.2214327575414,1898.760514407385,4008.8206100978346,139.49001554701303,-837.3917517326245,-1265.8739887495162,-125.15548454303601,1594.737011813773,-1142.5544310148923,-1353.8526036855728,858.0804365235306,302.36860705062736,82.54049779032181,-354.9764766590169,-527.0493455600964,-158.69542596456446,-351.114326135683,-234.05253481816902,-107.79021170427735,-50.00926159185162,122.18280536442768,-17.702894936317332,-477.29090424810965,-692.6223867819347,0.0,-89.89366283050012,-325.2550623481572,61.41928360379499,-1335.1783886148112,0.0,-93.76856005251189,-982.4479744166458,0.0,-1334.7644437285646,-10.86133244702312,285.1240871097565,-583.8528601062475,-38.11249353117203,531.2944534940982,609.5987113516379,-218.40874101445857,-1128.1767629159415,789.8216654264868,-2489.0592158060917,-330.7251113580602,-1297.051622313041,17.049453248272577,-8.906867848028057,-1389.4018334000216,133.72694585833395,0.0,-64.29056197054398,0.0,290.64739762482947,218.35378708927146,-675.4516073595254,-513.6458633837302,51.0520831270535,83.05069575812561,79.4490270226821,0.0,-412.46126461116035,280.64933928000954,179.19265444323824,0.0,-142.39632573590734,682.3577434006062,-1464.8346653099723,-277.0110439976944,3.1776911149616756,1224.313735579858,104.00305898586504,2.7624108054420953,-311.65664197769104,919.5740899996655,1155.6534044845823,3464.5811726226943,0.0,-1357.7833258230894,393.2239688468119,-1319.9825372133057,-0.0,-293.6339872105671,0.0,-70.72765131382972,18.667357625903673,-24.747408394384713,674.019630932079,-911.2188571919843,316.1478519820468,-799.4443309769747,-162.87992198953035,-537.8690030158226,-483.93708618225253,0.0,870.2011081464562,227.4772587792306,0.0,-177.59319495146565,-84.78303988043085,0.0,0.0,-316.7381272053047,4155.089573981627,582.6000743618221,0.0,604.0283263943082,196.5128164753235,139.4280438672811,0.0,0.0,-25.808032292969838,108.97724419817318,471.76676038649225,0.0,0.0,339.536896242387,-617.2886763091989,0.0,120.28326482975261,0.0,-609.7193918553227,765.4483569275311,213.8230132625816,0.0,347.00140784630946,3.9913563831031165,0.0,0.0,280.745244798039,-2324.7661754779556,70.58808715175464,-448.2874841199574,192.68500455253366,0.0,-584.986543480925,0.0,525.4976398865734,-894.9564208163731,319.80938950319177,0.0,77.82644597647781,520.9443331362718,-316.3357706743973,492.59461623836074,0.0,-510.75467424664566,0.0,-1748.382352922885,145.11107776517213,0.0,68.1634390562891,-74.40257501089054,-77.01362174287624,-0.0,-631.2780865457379,316.8808391446131,-331.80747977940774,-643.3891161632205,-1707.4050574939436,438.08699902424524,586.7933430889807,869.158571537113,-570.2223662074998,296.177554344054,0.0,-250.22353674598017,-305.7030846247866,145.5314978420904,371.27007648573306,0.0,0.0,0.0,474.3114973325065,-330.87850335800795,-10.32200199256138,429.64281940050085,-62.52862400860573,69.84146447655027,0.0,251.5722955889377,-184.07940037844375,-689.2548936574847,0.0,67.22605250286566,0.0,2496.408809116475,204.0216500293675,0.0,0.0,0.0,-636.6153106063814,0.0,0.0,-12.375787530340105,1355.9759884141374,-0.0,-27.23620019754716,86.89650187540803,-438.32179117633086,532.1636795187023,0.0,833.6569207681239,-3656.1168978284027,-2483.6614082443566,0.0,980.8953045149075,-9.804958676862412,0.0,50.44528443481374,0.0,-276.70627441880123,0.0,0.0,0.0,898.9276302600548,-251.136386824245,0.0,711.9153486668366,1165.1973948460234,-529.6314327563698,0.0,724.4841762944852,-195.35164955237764,0.0,0.0,95.95631729011942,1865.096384130749,-176.46274871287727,-123.94587611747512,-354.5231990610727,-346.98992882675725,-601.7061586081852,827.5747404685959,152.65066387965817,14.617397871889933,0.0,317.9873705799075,39.71095970593922,0.0,0.0,-517.8568590750676,882.413228840699,0.0,0.0,31.008648616182157,-1017.4108324668612,811.2809571143773,-140.3876936146802,530.0153996337407,0.0,0.0,-26.50911317432143,0.0,75.22659640661414,0.0,1082.0865533001272,382.2694536614415,1160.248773559982,1586.0064630773168,1313.7256201339692,0.0,5025.841475254005,0.0,0.0,-115.89607855602931,0.0,-804.5182604352555,-5050.226976693879,-581.2767690292881,334.8812138704386,480.7374633310188,0.0,583.4583791330926,318.92290350553935,-148.317541154217,597.9318203722802,0.0,0.0,538.111506832934,-131.0306985734082,-2732.9149811697944,1127.890837261753,4071.333553285902,188.34193867651567,-223.1331942065096,-98.12730807703248,286.7858024550305,247.96075220587824,-80.35448159310795,-1222.4915743062008,-64.62995459475422,86.68306458733737,-1662.0561081316578,23.34921147946367,3997.7592086440213,-255.18440883852642,736.8505603164328,-201.37305443313466,-522.4819260062658,-255.184408838527,-3268.939343362198,776.0289010929794,4306.949929697985,69.89581369216636,-1747.9562851891146,1945.592635879611,0.0,308.66994760691944,-864.3119743176356,-702.6705419212166,-325.97815753612724,-388.7585040560649,0.0,-258.51897238359,-360.29100362196465,1077.1589168320445,-357.34629043793984,1101.0110393686557,-963.4815159821605,110.45884321332883,-505.7366541387019,1634.7297114943083,-277.20478420250237,-1147.0812936740213,-271.9633877537508,1060.1051934635602,-200.10752963122312,51.11781271104077,-27.22986757590229,238.2850782668198,1137.8299395764561,-1957.8096928823209,-652.4538857481404,6376.012033168598,1614.9325343393234,-771.1479541476209,-400.0405661974111,629.9297344780997,-2652.3844278266297,-1072.8271996268406,-1434.287041750923,1148.9699122080522,478.2919499012672,-615.4757150378823,1842.0917908189015,107.20921664843303,-509.0567687198047,1213.580006299765,126.94106631713456,523.2810586217846,-681.4421410734448,126.94106631713456,-40.076017934647645,182.0049806664518,270.11868900998803,30.2337392807403,-844.5884033749658,-1055.7029829962587,422.7303621333349,17.777245756413095,-1283.6576976660367,1874.2037362119636,457.7881454092013,-333.8518748836855,103.80610335706375,781.2553511935928,539.4555312583761,-176.22907872457827,676.9575218434071,-1124.911181719767,369.96589680381055,1310.6086889276908,-233.777997253869,-356.7484388038861,274.23445425047043,0.0,-574.4130991077917,1309.0760090098456,-838.6653639107293,486.76810329154256,-1419.418807589899,550.7842015759991,0.0,380.9808965361701,-421.4533384648758,0.0,-287.72646745002083,0.9017512366464345,-731.6765781277738,-385.3287467476747,-0.0,-62.54264951110425,-434.11868355220156,1562.1496940175873,508.336632931093,-403.73065694453686,-394.6139869084255,-1762.3530184290657,-936.8314053498567,-54.33886582706931,-1061.9613861606763,-254.3316396144443,-24.526983315751373,726.5327724509975,-290.281389982112,264.4513828525514,-507.8553049226247,-396.6421910947892,67.93752385365622,1235.509805136704,-1101.0132504340488,186.82464467959264,0.0,-1039.4198969637675,-1111.406751718736,735.9351027097899,537.7292110640149,315.59969089161507,-353.0614782612165,343.5105193712234,1658.926097085327,810.7410984770833,-372.9849302233423,116.35390282094656,1033.8674276744437,-506.52001638545227,-1306.4448012410032,-1187.9242581132678,-11.764008804403067,362.33652857077703,190.90112853664388,-640.463704508024,540.0101521539972,-368.861127555015,-1654.210546284104,-634.8329775835957,-174.9124965022087,-1031.5998049706152,-65.60989062608374,272.51324493157915,1396.3191133340686,80.88636375072184,45.686654027379085,-46.68433822861279,-1313.0276428855227,0.0,0.0,515.848053240386,-325.520417664679,-162.8228034476161,952.4369527689705,-94.46576405682926,126.94106631713726,-1168.5881123385523,1040.568226297711,1620.9229472355514,250.0037192769089,126.94106631713775,-288.24022658375293,109.71998343578693,-705.3696952458411,936.2448596805043,274.9906784362996,-688.653535532859,-448.1095685781521,4889.956911220381,157.99667825400766,-8.573761923459273,661.9217534106606,-323.5054651913904,398.2466446359832,-327.9935380050983,-141.02893020554257,366.78371770571596,-1202.684770911872,1322.9439893899496,-122.6240283961153,-280.4750266367756,-161.54792601393052,-124.0414136401308,114.04737985805018,1321.629460476776,-0.0,1343.4767924403354,-2263.0619716072833,-724.7798513777888,948.9419335685976,-1508.762382264397,2525.16708505456,6040.994734277052,3971.968594798639,1540.2316421056864,2256.731989434283,4089.084960692831,124.82658470513205,695.9427726600778,4711.055241949939,5722.119406664975,4171.908479232544,399.4425412516282,7837.016901549012,1066.5541694295114,-708.1510610333585,3460.693717264795,2198.6686873821054,714.5345199217826,-2331.1493455187383,3924.922076769083,2891.1679395506085,3352.36507983789,2723.1782163197668,1679.0765861820353,597.2688853379824,-836.2493903028056,762.5311408804872,1408.4914740274814,1065.3553761068845,-43.907646709310484,-180.61211791064096,-862.1945430526113]\n",
      "Intercept: 180709.361060563\n"
     ]
    }
   ]
  },
  {
   "cell_type": "code",
   "source": [
    "trainingSummary = lr_model.summary\n",
    "\n",
    "eval_results = {'Regression Algo':'Linear Regression','R2':trainingSummary.r2, 'RSME':trainingSummary.rootMeanSquaredError}\n",
    "\n",
    "base_line_eval_df.loc[len(base_line_eval_df.index)] = eval_results\n"
   ],
   "metadata": {
    "id": "hMA7T1jMydH-"
   },
   "execution_count": 296,
   "outputs": []
  },
  {
   "cell_type": "markdown",
   "source": [
    "#Gradient Booster"
   ],
   "metadata": {
    "id": "xLQixmhj1wzZ"
   }
  },
  {
   "cell_type": "code",
   "source": [
    "gbt = GBTRegressor(featuresCol=\"features\",labelCol='SalePrice', maxIter=10)\n",
    "gbt_model = gbt.fit(train_df)"
   ],
   "metadata": {
    "id": "7Elt56fi11k3"
   },
   "execution_count": 297,
   "outputs": []
  },
  {
   "cell_type": "code",
   "source": [
    "gbt_predictions = gbt_model.transform(test_df)\n",
    "\n",
    "gbt_evaluator = RegressionEvaluator(predictionCol=\"prediction\", \\\n",
    "                 labelCol=\"SalePrice\",metricName=\"r2\")\n",
    "gbtR2 = gbt_evaluator.evaluate(gbt_predictions)\n",
    "print(\"R Squared (R2) on test data = %g\" % gbtR2)"
   ],
   "metadata": {
    "colab": {
     "base_uri": "https://localhost:8080/"
    },
    "id": "fxGtFMuv2EBb",
    "outputId": "3dd23053-e898-4753-a82f-41fa8d70ede2"
   },
   "execution_count": 298,
   "outputs": [
    {
     "output_type": "stream",
     "name": "stdout",
     "text": [
      "R Squared (R2) on test data = 0.688573\n"
     ]
    }
   ]
  },
  {
   "cell_type": "code",
   "source": [
    "gbt_evaluator = RegressionEvaluator(predictionCol=\"prediction\", \\\n",
    "                 labelCol=\"SalePrice\",metricName=\"rmse\")"
   ],
   "metadata": {
    "id": "hSXpLP1B2FML"
   },
   "execution_count": 299,
   "outputs": []
  },
  {
   "cell_type": "code",
   "source": [
    "gbtRMSE = gbt_evaluator.evaluate(gbt_predictions)\n",
    "print(\"RMSE on test data = %g\" % gbtRMSE)"
   ],
   "metadata": {
    "colab": {
     "base_uri": "https://localhost:8080/"
    },
    "id": "x4EXfA4Y2OCD",
    "outputId": "57ef0f0c-a171-4e69-ed65-7194d4e903fe"
   },
   "execution_count": 300,
   "outputs": [
    {
     "output_type": "stream",
     "name": "stdout",
     "text": [
      "RMSE on test data = 43482.9\n"
     ]
    }
   ]
  },
  {
   "cell_type": "code",
   "source": [
    "eval_results = {'Regression Algo':'Gradient Booster','R2':gbtR2, 'RSME':gbtRMSE}\n",
    "\n",
    "base_line_eval_df.loc[len(base_line_eval_df.index)] = eval_results\n",
    "\n",
    "print(base_line_eval_df)"
   ],
   "metadata": {
    "colab": {
     "base_uri": "https://localhost:8080/"
    },
    "id": "GZf8tiOiLbNt",
    "outputId": "1b3d097d-1899-4580-f8a4-6efe63535982"
   },
   "execution_count": 301,
   "outputs": [
    {
     "output_type": "stream",
     "name": "stdout",
     "text": [
      "     Regression Algo        R2          RSME\n",
      "0  Linear Regression  0.973773  12972.232217\n",
      "1   Gradient Booster  0.688573  43482.899508\n"
     ]
    }
   ]
  },
  {
   "cell_type": "markdown",
   "source": [
    "#Random Forest Regression"
   ],
   "metadata": {
    "id": "QxcYStrA2O84"
   }
  },
  {
   "cell_type": "code",
   "source": [
    "rf = RandomForestRegressor(featuresCol=\"features\",labelCol='SalePrice', maxDepth=15)\n",
    "rf_model = rf.fit(train_df)"
   ],
   "metadata": {
    "id": "k7e1N2yo3GGT"
   },
   "execution_count": 302,
   "outputs": []
  },
  {
   "cell_type": "code",
   "source": [
    "rf_predictions = rf_model.transform(test_df)\n",
    "rf_predictions.select(\"prediction\",\"SalePrice\",\"features\").show(5)"
   ],
   "metadata": {
    "colab": {
     "base_uri": "https://localhost:8080/"
    },
    "id": "CHNK0-cW3ZiT",
    "outputId": "bbd984d2-d9df-4ff5-96a8-2ceac2a937d7"
   },
   "execution_count": 303,
   "outputs": [
    {
     "output_type": "stream",
     "name": "stdout",
     "text": [
      "+------------------+---------+--------------------+\n",
      "|        prediction|SalePrice|            features|\n",
      "+------------------+---------+--------------------+\n",
      "|140760.03408549193|   144000|(792,[0,4,114,115...|\n",
      "|          92343.75|    87500|(792,[0,4,114,115...|\n",
      "| 277620.9428571429|   228500|(792,[0,4,114,115...|\n",
      "|         353146.85|   313000|(792,[0,4,114,115...|\n",
      "|136542.64621836497|   139000|(792,[0,4,114,115...|\n",
      "+------------------+---------+--------------------+\n"
     ]
    }
   ]
  },
  {
   "cell_type": "code",
   "source": [
    "rf_evaluator = RegressionEvaluator(predictionCol=\"prediction\", \\\n",
    "                 labelCol=\"SalePrice\",metricName=\"r2\")\n",
    "rf_R2 = rf_evaluator.evaluate(rf_predictions)\n",
    "print(\"R Squared (R2) on test data = %g\" % rf_R2)"
   ],
   "metadata": {
    "colab": {
     "base_uri": "https://localhost:8080/"
    },
    "id": "YgNyWbTA3i_U",
    "outputId": "815a9dd1-dde7-4f6f-da65-5f2bb3d367b6"
   },
   "execution_count": 304,
   "outputs": [
    {
     "output_type": "stream",
     "name": "stdout",
     "text": [
      "R Squared (R2) on test data = 0.854129\n"
     ]
    }
   ]
  },
  {
   "cell_type": "code",
   "source": [
    "rf_evaluator = RegressionEvaluator(predictionCol=\"prediction\", \\\n",
    "                 labelCol=\"SalePrice\",metricName=\"rmse\")\n",
    "rf_RMSE = rf_evaluator.evaluate(rf_predictions)\n",
    "print(\"RMSE on test data = %g\" % rf_RMSE)"
   ],
   "metadata": {
    "colab": {
     "base_uri": "https://localhost:8080/"
    },
    "id": "XIU-p_mP3kq3",
    "outputId": "89f4bc3f-80e8-4ad2-e7e0-d87cb00d1c5d"
   },
   "execution_count": 305,
   "outputs": [
    {
     "output_type": "stream",
     "name": "stdout",
     "text": [
      "RMSE on test data = 29759.4\n"
     ]
    }
   ]
  },
  {
   "cell_type": "code",
   "source": [
    "eval_results = {'Regression Algo':'Random Forest','R2':rf_R2, 'RSME':rf_RMSE}\n",
    "\n",
    "base_line_eval_df.loc[len(base_line_eval_df.index)] = eval_results\n",
    "\n",
    "print(base_line_eval_df)"
   ],
   "metadata": {
    "colab": {
     "base_uri": "https://localhost:8080/"
    },
    "id": "Md-3lxiCOOl-",
    "outputId": "6f5d9537-c058-495a-a543-c606c185e479"
   },
   "execution_count": 306,
   "outputs": [
    {
     "output_type": "stream",
     "name": "stdout",
     "text": [
      "     Regression Algo        R2          RSME\n",
      "0  Linear Regression  0.973773  12972.232217\n",
      "1   Gradient Booster  0.688573  43482.899508\n",
      "2      Random Forest  0.854129  29759.427365\n"
     ]
    }
   ]
  },
  {
   "cell_type": "markdown",
   "source": [
    "#Decison Tree Regression"
   ],
   "metadata": {
    "id": "SvV-xGs64kov"
   }
  },
  {
   "cell_type": "code",
   "source": [
    "dt = DecisionTreeRegressor(featuresCol=\"features\",labelCol='SalePrice', maxDepth=10)\n",
    "dt_model = dt.fit(train_df)\n",
    "dt_predictions = dt_model.transform(test_df)"
   ],
   "metadata": {
    "id": "3sXZlHVr6IX5"
   },
   "execution_count": 307,
   "outputs": []
  },
  {
   "cell_type": "code",
   "source": [
    "dt_evaluator = RegressionEvaluator(predictionCol=\"prediction\", \\\n",
    "                 labelCol=\"SalePrice\",metricName=\"r2\")\n",
    "dt_R2 = dt_evaluator.evaluate(dt_predictions)\n",
    "print(\"R Squared (R2) on test data = %g\" % dt_R2)"
   ],
   "metadata": {
    "colab": {
     "base_uri": "https://localhost:8080/"
    },
    "id": "fvx7ivUA6Jjt",
    "outputId": "1ca5988a-700c-4777-ecd9-6adaaad27ec9"
   },
   "execution_count": 308,
   "outputs": [
    {
     "output_type": "stream",
     "name": "stdout",
     "text": [
      "R Squared (R2) on test data = 0.679391\n"
     ]
    }
   ]
  },
  {
   "cell_type": "code",
   "source": [
    "dt_evaluator = RegressionEvaluator(predictionCol=\"prediction\", \\\n",
    "                 labelCol=\"SalePrice\",metricName=\"rmse\")\n",
    "dt_RMSE = dt_evaluator.evaluate(dt_predictions)\n",
    "print(\"Decision Tree Regressor RMSE = %g\" % dt_RMSE )"
   ],
   "metadata": {
    "colab": {
     "base_uri": "https://localhost:8080/"
    },
    "id": "wGSyVqhJ6t2m",
    "outputId": "0e313700-3786-4d45-89b5-b72c91b63ef3"
   },
   "execution_count": 309,
   "outputs": [
    {
     "output_type": "stream",
     "name": "stdout",
     "text": [
      "Decision Tree Regressor RMSE = 44119.3\n"
     ]
    }
   ]
  },
  {
   "cell_type": "code",
   "source": [
    "eval_results = {'Regression Algo':'Decision Tree','R2':dt_R2, 'RSME':dt_RMSE}\n",
    "\n",
    "base_line_eval_df.loc[len(base_line_eval_df.index)] = eval_results\n",
    "\n",
    "print(base_line_eval_df)"
   ],
   "metadata": {
    "colab": {
     "base_uri": "https://localhost:8080/"
    },
    "id": "GRJCaF_tQkBs",
    "outputId": "cbbd8889-60f2-46e8-9e3e-3842ec8875a4"
   },
   "execution_count": 310,
   "outputs": [
    {
     "output_type": "stream",
     "name": "stdout",
     "text": [
      "     Regression Algo        R2          RSME\n",
      "0  Linear Regression  0.973773  12972.232217\n",
      "1   Gradient Booster  0.688573  43482.899508\n",
      "2      Random Forest  0.854129  29759.427365\n",
      "3      Decision Tree  0.679391  44119.280875\n"
     ]
    }
   ]
  },
  {
   "cell_type": "markdown",
   "source": [
    "#Isotonic Regression"
   ],
   "metadata": {
    "id": "iVjk6Mv69OhH"
   }
  },
  {
   "cell_type": "code",
   "source": [
    "iso = IsotonicRegression(featuresCol=\"features\", labelCol=\"SalePrice\") \n",
    "iso_model=iso.fit(train_df)\n",
    "iso_predictions = iso_model.transform(test_df)"
   ],
   "metadata": {
    "id": "Ck2E2toG9R_f"
   },
   "execution_count": 311,
   "outputs": []
  },
  {
   "cell_type": "code",
   "source": [
    "iso_evaluator = RegressionEvaluator(\n",
    "    labelCol=\"SalePrice\", predictionCol=\"prediction\", metricName=\"rmse\")\n",
    "iso_rmse = iso_evaluator.evaluate(iso_predictions)\n",
    "print(\"Isotonic Regression  (RMSE) = %g\" % iso_rmse)"
   ],
   "metadata": {
    "colab": {
     "base_uri": "https://localhost:8080/"
    },
    "id": "z4GJU7eW91pf",
    "outputId": "676a98e1-f87a-4b4e-bf9b-5cf4fc46fffb"
   },
   "execution_count": 312,
   "outputs": [
    {
     "output_type": "stream",
     "name": "stdout",
     "text": [
      "Isotonic Regression  (RMSE) = 74326.1\n"
     ]
    }
   ]
  },
  {
   "cell_type": "code",
   "source": [
    "iso_evaluator = RegressionEvaluator(predictionCol=\"prediction\", \\\n",
    "                 labelCol=\"SalePrice\",metricName=\"r2\")\n",
    "iso_R2 = iso_evaluator.evaluate(iso_predictions)\n",
    "print(\"Isotonic Regression R Squared (R2) = %g\" % iso_R2)"
   ],
   "metadata": {
    "colab": {
     "base_uri": "https://localhost:8080/"
    },
    "id": "T-VTGmKv-Ygi",
    "outputId": "841572cf-b231-4cbf-8fec-8201b4970899"
   },
   "execution_count": 313,
   "outputs": [
    {
     "output_type": "stream",
     "name": "stdout",
     "text": [
      "Isotonic Regression R Squared (R2) = 0.0900843\n"
     ]
    }
   ]
  },
  {
   "cell_type": "code",
   "source": [
    "eval_results = {'Regression Algo':'Isotonic ','R2':iso_R2, 'RSME':iso_rmse}\n",
    "\n",
    "base_line_eval_df.loc[len(base_line_eval_df.index)] = eval_results\n",
    "\n",
    "print(base_line_eval_df)"
   ],
   "metadata": {
    "colab": {
     "base_uri": "https://localhost:8080/"
    },
    "id": "ZG-xRFHHQ9KA",
    "outputId": "33bb15dc-40a2-4a06-c7ba-00e62e9ae59c"
   },
   "execution_count": 314,
   "outputs": [
    {
     "output_type": "stream",
     "name": "stdout",
     "text": [
      "     Regression Algo        R2          RSME\n",
      "0  Linear Regression  0.973773  12972.232217\n",
      "1   Gradient Booster  0.688573  43482.899508\n",
      "2      Random Forest  0.854129  29759.427365\n",
      "3      Decision Tree  0.679391  44119.280875\n",
      "4          Isotonic   0.090084  74326.060955\n"
     ]
    }
   ]
  },
  {
   "cell_type": "markdown",
   "source": [
    "#Summary of Base Line(Encoded Categorical Data) Regressions"
   ],
   "metadata": {
    "id": "Xchx-m2TARAs"
   }
  },
  {
   "cell_type": "code",
   "source": [
    "base_line_eval_df.style"
   ],
   "metadata": {
    "colab": {
     "base_uri": "https://localhost:8080/",
     "height": 206
    },
    "id": "mJxdbuItRZhF",
    "outputId": "075974ff-28db-4d89-8a20-cc2b80557d1b"
   },
   "execution_count": 315,
   "outputs": [
    {
     "output_type": "execute_result",
     "data": {
      "text/plain": [
       "<pandas.io.formats.style.Styler at 0x7f67f62d8df0>"
      ],
      "text/html": [
       "<style type=\"text/css\">\n",
       "</style>\n",
       "<table id=\"T_c5d6e\" class=\"dataframe\">\n",
       "  <thead>\n",
       "    <tr>\n",
       "      <th class=\"blank level0\" >&nbsp;</th>\n",
       "      <th id=\"T_c5d6e_level0_col0\" class=\"col_heading level0 col0\" >Regression Algo</th>\n",
       "      <th id=\"T_c5d6e_level0_col1\" class=\"col_heading level0 col1\" >R2</th>\n",
       "      <th id=\"T_c5d6e_level0_col2\" class=\"col_heading level0 col2\" >RSME</th>\n",
       "    </tr>\n",
       "  </thead>\n",
       "  <tbody>\n",
       "    <tr>\n",
       "      <th id=\"T_c5d6e_level0_row0\" class=\"row_heading level0 row0\" >0</th>\n",
       "      <td id=\"T_c5d6e_row0_col0\" class=\"data row0 col0\" >Linear Regression</td>\n",
       "      <td id=\"T_c5d6e_row0_col1\" class=\"data row0 col1\" >0.973773</td>\n",
       "      <td id=\"T_c5d6e_row0_col2\" class=\"data row0 col2\" >12972.232217</td>\n",
       "    </tr>\n",
       "    <tr>\n",
       "      <th id=\"T_c5d6e_level0_row1\" class=\"row_heading level0 row1\" >1</th>\n",
       "      <td id=\"T_c5d6e_row1_col0\" class=\"data row1 col0\" >Gradient Booster</td>\n",
       "      <td id=\"T_c5d6e_row1_col1\" class=\"data row1 col1\" >0.688573</td>\n",
       "      <td id=\"T_c5d6e_row1_col2\" class=\"data row1 col2\" >43482.899508</td>\n",
       "    </tr>\n",
       "    <tr>\n",
       "      <th id=\"T_c5d6e_level0_row2\" class=\"row_heading level0 row2\" >2</th>\n",
       "      <td id=\"T_c5d6e_row2_col0\" class=\"data row2 col0\" >Random Forest</td>\n",
       "      <td id=\"T_c5d6e_row2_col1\" class=\"data row2 col1\" >0.854129</td>\n",
       "      <td id=\"T_c5d6e_row2_col2\" class=\"data row2 col2\" >29759.427365</td>\n",
       "    </tr>\n",
       "    <tr>\n",
       "      <th id=\"T_c5d6e_level0_row3\" class=\"row_heading level0 row3\" >3</th>\n",
       "      <td id=\"T_c5d6e_row3_col0\" class=\"data row3 col0\" >Decision Tree</td>\n",
       "      <td id=\"T_c5d6e_row3_col1\" class=\"data row3 col1\" >0.679391</td>\n",
       "      <td id=\"T_c5d6e_row3_col2\" class=\"data row3 col2\" >44119.280875</td>\n",
       "    </tr>\n",
       "    <tr>\n",
       "      <th id=\"T_c5d6e_level0_row4\" class=\"row_heading level0 row4\" >4</th>\n",
       "      <td id=\"T_c5d6e_row4_col0\" class=\"data row4 col0\" >Isotonic </td>\n",
       "      <td id=\"T_c5d6e_row4_col1\" class=\"data row4 col1\" >0.090084</td>\n",
       "      <td id=\"T_c5d6e_row4_col2\" class=\"data row4 col2\" >74326.060955</td>\n",
       "    </tr>\n",
       "  </tbody>\n",
       "</table>\n"
      ]
     },
     "metadata": {},
     "execution_count": 315
    }
   ]
  },
  {
   "cell_type": "markdown",
   "source": [
    "###Summary"
   ],
   "metadata": {
    "id": "eCYTCJmVL7wg"
   }
  },
  {
   "cell_type": "markdown",
   "source": [
    "From the summary of the regression models the Linear Regression and Random Forest are the best models to determine the sale price. \\\n",
    "This does not completely make sense, as when the threshold variance between the numeric features and the target feature, Sales Price is set at 0.5, the number of numeric features drops from 35 to 11.  This suggests that the Linear Regression model is overfitting the data and the Random Forest regression model would be a more trustworthy model. "
   ],
   "metadata": {
    "id": "CLztN0RBMBJh"
   }
  },
  {
   "cell_type": "code",
   "source": [
    "def findTopPrincipalComponentNumber(data:pyspark.sql.dataframe.DataFrame=df, \\\n",
    "                                    featureCol:str='features',threshold:int=0.80) -> (int, int):                              \n",
    "    df_detect=data.select(featureCol)\n",
    "    df_detect_list=[]\n",
    "    for i in df_detect.collect():\n",
    "        df_detect_list.append(i[0].tolist())\n",
    "    df_detect_np=np.array(df_detect_list)\n",
    "    cov_mat = np.cov(df_detect_np.T) #Get the covariance matrix\n",
    "    eigen_vals, eigen_vecs = np.linalg.eig(cov_mat) #Get list of Eigenvalues and list of Eigenvectors, \n",
    "                                                    #numbef of Eigenvalues = number of the feature columns \n",
    "    tot = sum(eigen_vals)\n",
    "    var_exp = [(i / tot) for i in sorted(eigen_vals, reverse=True)] #Sort the Eigenvalues in descending order\n",
    "                                                                    #get the percentage of each Eigenvalue against \n",
    "                                                                    #sum of total eigenvalues\n",
    "                                                                    #Then find number cumulative percentage from\n",
    "                                                                    #first few largest eigenvalues to see threshold \n",
    "                                                                    #is crossed.  If so, you only need these few \n",
    "                                                                    #number of columns in PCA()\n",
    "    cumulativePercept=0\n",
    "    cumulativePerceptList=[]\n",
    "    for i in var_exp:\n",
    "        cumulativePercept+=i\n",
    "        cumulativePerceptList.append(cumulativePercept)\n",
    "        if cumulativePercept >= threshold:\n",
    "            break\n",
    "    return (len(cumulativePerceptList), float(cumulativePerceptList[-1]))"
   ],
   "metadata": {
    "id": "xhkADO7jqNLF"
   },
   "execution_count": 316,
   "outputs": []
  },
  {
   "cell_type": "markdown",
   "source": [
    "### Modelling with Dimension Reduction"
   ],
   "metadata": {
    "id": "Eq3K8EJPv7kj"
   }
  },
  {
   "cell_type": "code",
   "source": [
    "#scaler = StandardScaler(inputCol=\"features\",outputCol=\"scaledFeatures\",withStd=True, withMean=True)\n",
    "#scalerModel=scaler.fit(base_line_tf)"
   ],
   "metadata": {
    "id": "MdVIjuys2F_y"
   },
   "execution_count": 317,
   "outputs": []
  },
  {
   "cell_type": "code",
   "source": [
    "#base_line_scaled_tf=scalerModel.transform(base_line_tf)"
   ],
   "metadata": {
    "id": "xA9b2xb02OGX"
   },
   "execution_count": 318,
   "outputs": []
  },
  {
   "cell_type": "code",
   "source": [
    "#df_pca=base_line_scaled_tf.select('scaledFeatures','SalePrice')"
   ],
   "metadata": {
    "id": "qtwuq1NT3mTk"
   },
   "execution_count": 319,
   "outputs": []
  },
  {
   "cell_type": "code",
   "source": [
    "df_pca = base_line_scaled_tf"
   ],
   "metadata": {
    "id": "LbakUWLBpX22"
   },
   "execution_count": 320,
   "outputs": []
  },
  {
   "cell_type": "code",
   "source": [
    "bestK, coverPercentage=findTopPrincipalComponentNumber(data=df_pca, featureCol='scaledFeatures', threshold=0.80)\n",
    "pca = PCA(k=bestK, inputCol=\"scaledFeatures\", outputCol=\"pcaFeatures\")\n",
    "print(f\"{bestK} principal components covers the {round(coverPercentage*100,2)}% from original dataset with {len(base_line_tf.columns)-1} feature columns\")"
   ],
   "metadata": {
    "colab": {
     "base_uri": "https://localhost:8080/"
    },
    "id": "DSCfTghKwHue",
    "outputId": "d7c6b378-8285-4e30-e1ad-1ccc33279067"
   },
   "execution_count": 321,
   "outputs": [
    {
     "output_type": "stream",
     "name": "stdout",
     "text": [
      "386 principal components covers the 80.01% from original dataset with 1 feature columns\n"
     ]
    },
    {
     "output_type": "stream",
     "name": "stderr",
     "text": [
      "<ipython-input-316-8ce3c63d8320>:26: ComplexWarning: Casting complex values to real discards the imaginary part\n",
      "  return (len(cumulativePerceptList), float(cumulativePerceptList[-1]))\n"
     ]
    }
   ]
  },
  {
   "cell_type": "code",
   "source": [
    "df_pca_reduced = pca.fit(df_pca).transform(df_pca)\n",
    "\n",
    "print(\"Type: \", type(df_pca_reduced))"
   ],
   "metadata": {
    "colab": {
     "base_uri": "https://localhost:8080/"
    },
    "id": "M_div8wg6uR2",
    "outputId": "a8b0970f-9863-4550-fecf-f4aaea754333"
   },
   "execution_count": 322,
   "outputs": [
    {
     "output_type": "stream",
     "name": "stdout",
     "text": [
      "Type:  <class 'pyspark.sql.dataframe.DataFrame'>\n"
     ]
    }
   ]
  },
  {
   "cell_type": "code",
   "source": [
    "print(\"Dimensions: \" ,len(df_pca_reduced.columns))\n",
    "print(\"OG Dimensions: \" ,len(df.columns))"
   ],
   "metadata": {
    "colab": {
     "base_uri": "https://localhost:8080/"
    },
    "id": "h1pkKUXDEajG",
    "outputId": "cdfb87d5-ad8e-4c03-e9ac-d3fbd12cefb6"
   },
   "execution_count": 323,
   "outputs": [
    {
     "output_type": "stream",
     "name": "stdout",
     "text": [
      "Dimensions:  4\n",
      "OG Dimensions:  81\n"
     ]
    }
   ]
  },
  {
   "cell_type": "code",
   "source": [
    "df_pca_reduced.printSchema()\n",
    "\n"
   ],
   "metadata": {
    "colab": {
     "base_uri": "https://localhost:8080/"
    },
    "id": "4PxmZ1IuE7og",
    "outputId": "fd134460-037f-44fc-fc56-7fd43fad088f"
   },
   "execution_count": 324,
   "outputs": [
    {
     "output_type": "stream",
     "name": "stdout",
     "text": [
      "root\n",
      " |-- features: vector (nullable = true)\n",
      " |-- SalePrice: integer (nullable = true)\n",
      " |-- scaledFeatures: vector (nullable = true)\n",
      " |-- pcaFeatures: vector (nullable = true)\n"
     ]
    }
   ]
  },
  {
   "cell_type": "code",
   "source": [
    "splits = df_pca_reduced.randomSplit([0.7, 0.3])\n",
    "train_df_pca = splits[0]\n",
    "test_df_pca = splits[1]"
   ],
   "metadata": {
    "id": "rlxA1o6XQkBW"
   },
   "execution_count": 325,
   "outputs": []
  },
  {
   "cell_type": "markdown",
   "source": [
    "#Utilities"
   ],
   "metadata": {
    "id": "7wW37iHtQbZ8"
   }
  },
  {
   "cell_type": "code",
   "source": [
    "columns =[\"Regression Algo\",\t\"R2\",\t\"RSME\"]\n",
    "\n",
    "pca_results_df = pd.DataFrame(columns=columns)\n",
    "\n",
    "\n",
    "def runRegression(regressor, regressor_label):\n",
    "\n",
    "  predictions = regressor.fit(train_df_pca).transform(test_df_pca)\n",
    "  r2_evaluator = RegressionEvaluator(predictionCol=\"prediction\", \\\n",
    "                 labelCol=\"SalePrice\",metricName=\"r2\")\n",
    "  r2_value = r2_evaluator.evaluate(predictions)\n",
    "\n",
    "  rsme_evaluator = RegressionEvaluator(predictionCol=\"prediction\", \\\n",
    "                 labelCol=\"SalePrice\",metricName=\"rmse\")\n",
    "  rsme_value = rsme_evaluator.evaluate(predictions)\n",
    "\n",
    "  eval_results = {'Regression Algo': regressor_label,'R2':r2_value, 'RSME':rsme_value}\n",
    "\n",
    "  pca_results_df.loc[len(pca_results_df.index)] = eval_results\n",
    "\n",
    "  "
   ],
   "metadata": {
    "id": "DWZ8eeCMMXVI"
   },
   "execution_count": 344,
   "outputs": []
  },
  {
   "cell_type": "markdown",
   "source": [
    "Run Regressions Similar to the Non-Reduced Data"
   ],
   "metadata": {
    "id": "OceCbEbIDCNE"
   }
  },
  {
   "cell_type": "markdown",
   "source": [
    "#Linear Regression"
   ],
   "metadata": {
    "id": "7qXo5ke9FZw3"
   }
  },
  {
   "cell_type": "code",
   "source": [
    "\n",
    "\n",
    "lr = LinearRegression(featuresCol = 'pcaFeatures', labelCol='SalePrice', maxIter=10, regParam=0.3, elasticNetParam=0.8)\n",
    "runRegression(lr, 'Linear Regression')"
   ],
   "metadata": {
    "id": "MalCDdzfFt6c"
   },
   "execution_count": 345,
   "outputs": []
  },
  {
   "cell_type": "markdown",
   "source": [
    "#Gradient Boost Regression"
   ],
   "metadata": {
    "id": "iq90nn-7SyhG"
   }
  },
  {
   "cell_type": "code",
   "source": [
    "gbt = GBTRegressor(featuresCol=\"pcaFeatures\",labelCol='SalePrice', maxIter=10)\n",
    "runRegression(gbt, 'Gradeient Booster Regression')"
   ],
   "metadata": {
    "id": "OBSWBXdAFcuF"
   },
   "execution_count": 346,
   "outputs": []
  },
  {
   "cell_type": "markdown",
   "source": [
    "###Decison Tree Regression"
   ],
   "metadata": {
    "id": "IGEfodD1YhRo"
   }
  },
  {
   "cell_type": "code",
   "source": [
    "dt = DecisionTreeRegressor(featuresCol=\"pcaFeatures\",labelCol='SalePrice', maxDepth=10)\n",
    "runRegression(dt, 'Decision Tree Regression')"
   ],
   "metadata": {
    "id": "xtdgUaJNYmts"
   },
   "execution_count": 347,
   "outputs": []
  },
  {
   "cell_type": "markdown",
   "source": [
    "###Random Forest Regression"
   ],
   "metadata": {
    "id": "BI8pPSnhZnjC"
   }
  },
  {
   "cell_type": "code",
   "source": [
    "rf = RandomForestRegressor(featuresCol=\"pcaFeatures\",labelCol='SalePrice', maxDepth=15)\n",
    "runRegression(rf, 'Random Forest Regression')"
   ],
   "metadata": {
    "id": "bH7Q5gpBZrpR"
   },
   "execution_count": 348,
   "outputs": []
  },
  {
   "cell_type": "markdown",
   "source": [
    "### Isotonic Regression"
   ],
   "metadata": {
    "id": "IUQgVpqbaC64"
   }
  },
  {
   "cell_type": "code",
   "source": [
    "iso = IsotonicRegression(featuresCol=\"pcaFeatures\", labelCol=\"SalePrice\") \n",
    "runRegression(iso, 'Isotonic Regression')"
   ],
   "metadata": {
    "id": "kjFlaVszaHi1"
   },
   "execution_count": 349,
   "outputs": []
  },
  {
   "cell_type": "markdown",
   "source": [
    "####PCA Reduced Result"
   ],
   "metadata": {
    "id": "wpI8MJI0bGgw"
   }
  },
  {
   "cell_type": "markdown",
   "source": [
    "Before Dimension Reduction"
   ],
   "metadata": {
    "id": "pG_K6l3eb2lA"
   }
  },
  {
   "cell_type": "code",
   "source": [
    "base_line_eval_df.style"
   ],
   "metadata": {
    "colab": {
     "base_uri": "https://localhost:8080/",
     "height": 206
    },
    "id": "Lz8n3nI9cAI1",
    "outputId": "571be798-620d-4f33-e87d-45f38dd5b86e"
   },
   "execution_count": 350,
   "outputs": [
    {
     "output_type": "execute_result",
     "data": {
      "text/plain": [
       "<pandas.io.formats.style.Styler at 0x7f67f62d9960>"
      ],
      "text/html": [
       "<style type=\"text/css\">\n",
       "</style>\n",
       "<table id=\"T_55312\" class=\"dataframe\">\n",
       "  <thead>\n",
       "    <tr>\n",
       "      <th class=\"blank level0\" >&nbsp;</th>\n",
       "      <th id=\"T_55312_level0_col0\" class=\"col_heading level0 col0\" >Regression Algo</th>\n",
       "      <th id=\"T_55312_level0_col1\" class=\"col_heading level0 col1\" >R2</th>\n",
       "      <th id=\"T_55312_level0_col2\" class=\"col_heading level0 col2\" >RSME</th>\n",
       "    </tr>\n",
       "  </thead>\n",
       "  <tbody>\n",
       "    <tr>\n",
       "      <th id=\"T_55312_level0_row0\" class=\"row_heading level0 row0\" >0</th>\n",
       "      <td id=\"T_55312_row0_col0\" class=\"data row0 col0\" >Linear Regression</td>\n",
       "      <td id=\"T_55312_row0_col1\" class=\"data row0 col1\" >0.973773</td>\n",
       "      <td id=\"T_55312_row0_col2\" class=\"data row0 col2\" >12972.232217</td>\n",
       "    </tr>\n",
       "    <tr>\n",
       "      <th id=\"T_55312_level0_row1\" class=\"row_heading level0 row1\" >1</th>\n",
       "      <td id=\"T_55312_row1_col0\" class=\"data row1 col0\" >Gradient Booster</td>\n",
       "      <td id=\"T_55312_row1_col1\" class=\"data row1 col1\" >0.688573</td>\n",
       "      <td id=\"T_55312_row1_col2\" class=\"data row1 col2\" >43482.899508</td>\n",
       "    </tr>\n",
       "    <tr>\n",
       "      <th id=\"T_55312_level0_row2\" class=\"row_heading level0 row2\" >2</th>\n",
       "      <td id=\"T_55312_row2_col0\" class=\"data row2 col0\" >Random Forest</td>\n",
       "      <td id=\"T_55312_row2_col1\" class=\"data row2 col1\" >0.854129</td>\n",
       "      <td id=\"T_55312_row2_col2\" class=\"data row2 col2\" >29759.427365</td>\n",
       "    </tr>\n",
       "    <tr>\n",
       "      <th id=\"T_55312_level0_row3\" class=\"row_heading level0 row3\" >3</th>\n",
       "      <td id=\"T_55312_row3_col0\" class=\"data row3 col0\" >Decision Tree</td>\n",
       "      <td id=\"T_55312_row3_col1\" class=\"data row3 col1\" >0.679391</td>\n",
       "      <td id=\"T_55312_row3_col2\" class=\"data row3 col2\" >44119.280875</td>\n",
       "    </tr>\n",
       "    <tr>\n",
       "      <th id=\"T_55312_level0_row4\" class=\"row_heading level0 row4\" >4</th>\n",
       "      <td id=\"T_55312_row4_col0\" class=\"data row4 col0\" >Isotonic </td>\n",
       "      <td id=\"T_55312_row4_col1\" class=\"data row4 col1\" >0.090084</td>\n",
       "      <td id=\"T_55312_row4_col2\" class=\"data row4 col2\" >74326.060955</td>\n",
       "    </tr>\n",
       "  </tbody>\n",
       "</table>\n"
      ]
     },
     "metadata": {},
     "execution_count": 350
    }
   ]
  },
  {
   "cell_type": "code",
   "source": [
    "pca_results_df.style"
   ],
   "metadata": {
    "colab": {
     "base_uri": "https://localhost:8080/",
     "height": 206
    },
    "id": "kylQHszsbLnx",
    "outputId": "1d97885b-5187-47dc-ce8e-e2538280bb41"
   },
   "execution_count": 351,
   "outputs": [
    {
     "output_type": "execute_result",
     "data": {
      "text/plain": [
       "<pandas.io.formats.style.Styler at 0x7f67f62d8b80>"
      ],
      "text/html": [
       "<style type=\"text/css\">\n",
       "</style>\n",
       "<table id=\"T_73c49\" class=\"dataframe\">\n",
       "  <thead>\n",
       "    <tr>\n",
       "      <th class=\"blank level0\" >&nbsp;</th>\n",
       "      <th id=\"T_73c49_level0_col0\" class=\"col_heading level0 col0\" >Regression Algo</th>\n",
       "      <th id=\"T_73c49_level0_col1\" class=\"col_heading level0 col1\" >R2</th>\n",
       "      <th id=\"T_73c49_level0_col2\" class=\"col_heading level0 col2\" >RSME</th>\n",
       "    </tr>\n",
       "  </thead>\n",
       "  <tbody>\n",
       "    <tr>\n",
       "      <th id=\"T_73c49_level0_row0\" class=\"row_heading level0 row0\" >0</th>\n",
       "      <td id=\"T_73c49_row0_col0\" class=\"data row0 col0\" >Linear Regression</td>\n",
       "      <td id=\"T_73c49_row0_col1\" class=\"data row0 col1\" >0.727192</td>\n",
       "      <td id=\"T_73c49_row0_col2\" class=\"data row0 col2\" >42452.458251</td>\n",
       "    </tr>\n",
       "    <tr>\n",
       "      <th id=\"T_73c49_level0_row1\" class=\"row_heading level0 row1\" >1</th>\n",
       "      <td id=\"T_73c49_row1_col0\" class=\"data row1 col0\" >Gradeient Booster Regression</td>\n",
       "      <td id=\"T_73c49_row1_col1\" class=\"data row1 col1\" >0.750434</td>\n",
       "      <td id=\"T_73c49_row1_col2\" class=\"data row1 col2\" >40603.782122</td>\n",
       "    </tr>\n",
       "    <tr>\n",
       "      <th id=\"T_73c49_level0_row2\" class=\"row_heading level0 row2\" >2</th>\n",
       "      <td id=\"T_73c49_row2_col0\" class=\"data row2 col0\" >Decision Tree Regression</td>\n",
       "      <td id=\"T_73c49_row2_col1\" class=\"data row2 col1\" >0.617234</td>\n",
       "      <td id=\"T_73c49_row2_col2\" class=\"data row2 col2\" >50285.257145</td>\n",
       "    </tr>\n",
       "    <tr>\n",
       "      <th id=\"T_73c49_level0_row3\" class=\"row_heading level0 row3\" >3</th>\n",
       "      <td id=\"T_73c49_row3_col0\" class=\"data row3 col0\" >Random Forest Regression</td>\n",
       "      <td id=\"T_73c49_row3_col1\" class=\"data row3 col1\" >0.769690</td>\n",
       "      <td id=\"T_73c49_row3_col2\" class=\"data row3 col2\" >39005.916616</td>\n",
       "    </tr>\n",
       "    <tr>\n",
       "      <th id=\"T_73c49_level0_row4\" class=\"row_heading level0 row4\" >4</th>\n",
       "      <td id=\"T_73c49_row4_col0\" class=\"data row4 col0\" >Isotonic Regression</td>\n",
       "      <td id=\"T_73c49_row4_col1\" class=\"data row4 col1\" >-0.000496</td>\n",
       "      <td id=\"T_73c49_row4_col2\" class=\"data row4 col2\" >81298.308200</td>\n",
       "    </tr>\n",
       "  </tbody>\n",
       "</table>\n"
      ]
     },
     "metadata": {},
     "execution_count": 351
    }
   ]
  },
  {
   "cell_type": "markdown",
   "source": [
    "####Conclusion"
   ],
   "metadata": {
    "id": "n7F9yk0YzthC"
   }
  },
  {
   "cell_type": "markdown",
   "source": [
    "###Results\n",
    "\n",
    "Comparing the results from before Dimension Reduction and after Dimension Reduction it is \n",
    "apparent that colinearity and/or overfitting from the additional features reduced the reliability of the models that were developed. Once the dimensions are reduced, the Linear Regression, Gradient Booster, and RandomForest algorithms converge, with the Random Forest Regressor as the best.  The Random Forest Regressor has a R2 that is slightly higher than the Gradient Booster, but it has the lowest RSME and the highest R2 suggesting the best fit, with the least amount of errors.  \n",
    "\n",
    "In this case the reduction of dimensions from 81 to 4 indicates the dataset is too noisy, and better features need to be added. Looking at the dataset the features are mostly the physical description of the house, but from a common sense understanding there a house purchase decision involves more than the physical, the emotional and behavioural features guide the buying the decision, and including them would improve the predictiablity of the model. "
   ],
   "metadata": {
    "id": "IXJsAz3m0p4H"
   }
  }
 ]
}
